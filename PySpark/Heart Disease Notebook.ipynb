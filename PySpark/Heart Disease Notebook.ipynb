{
 "cells": [
  {
   "cell_type": "code",
   "execution_count": 35,
   "id": "517a6ae1",
   "metadata": {},
   "outputs": [],
   "source": [
    "from pyspark.sql.types import *"
   ]
  },
  {
   "cell_type": "code",
   "execution_count": 84,
   "id": "26fce2e3",
   "metadata": {},
   "outputs": [
    {
     "name": "stdout",
     "output_type": "stream",
     "text": [
      "root\n",
      " |-- Age: integer (nullable = true)\n",
      " |-- Sex: integer (nullable = true)\n",
      " |-- Chest pain type: integer (nullable = true)\n",
      " |-- BP: integer (nullable = true)\n",
      " |-- Cholesterol: integer (nullable = true)\n",
      " |-- FBS over 120: integer (nullable = true)\n",
      " |-- EKG results: integer (nullable = true)\n",
      " |-- Max HR: integer (nullable = true)\n",
      " |-- Exercise angina: integer (nullable = true)\n",
      " |-- ST depression: double (nullable = true)\n",
      " |-- Slope of ST: integer (nullable = true)\n",
      " |-- Number of vessels fluro: integer (nullable = true)\n",
      " |-- Thallium: integer (nullable = true)\n",
      " |-- Heart Disease: string (nullable = true)\n",
      "\n"
     ]
    }
   ],
   "source": [
    "customSchema = StructType([\n",
    "    StructField(\"Age\", IntegerType(), True), \n",
    "    StructField(\"Sex\", IntegerType(), True), \n",
    "    StructField(\"Chest pain type\", IntegerType(), True), \n",
    "    StructField(\"BP\", IntegerType(), True), \n",
    "    StructField(\"Cholesterol\", IntegerType(), True), \n",
    "    StructField(\"FBS over 120\", IntegerType(), True), \n",
    "    StructField(\"EKG results\", IntegerType(), True), \n",
    "    StructField(\"Max HR\", IntegerType(), True), \n",
    "    StructField(\"Exercise angina\", IntegerType(), True), \n",
    "    StructField(\"ST depression\", DoubleType(), True), \n",
    "    StructField(\"Slope of ST\", IntegerType(), True), \n",
    "    StructField(\"Number of vessels fluro\", IntegerType(), True), \n",
    "    StructField(\"Thallium\", IntegerType(), True), \n",
    "    StructField(\"Heart Disease\", StringType(), True)])\n",
    "    \n",
    "\n",
    "df = spark.read.load('hdfs://localhost:9000/user1/Heart_Disease_Prediction.csv', format=\"csv\", header=\"true\", sep=',', schema=customSchema)\n",
    "df.printSchema()"
   ]
  },
  {
   "cell_type": "code",
   "execution_count": 37,
   "id": "754ad275",
   "metadata": {},
   "outputs": [
    {
     "name": "stdout",
     "output_type": "stream",
     "text": [
      "+---+---+---------------+---+-----------+------------+-----------+------+---------------+-------------+-----------+-----------------------+--------+-------------+\n",
      "|Age|Sex|Chest pain type| BP|Cholesterol|FBS over 120|EKG results|Max HR|Exercise angina|ST depression|Slope of ST|Number of vessels fluro|Thallium|Heart Disease|\n",
      "+---+---+---------------+---+-----------+------------+-----------+------+---------------+-------------+-----------+-----------------------+--------+-------------+\n",
      "| 70|  1|              4|130|        322|           0|          2|   109|              0|          2.4|          2|                      3|       3|     Presence|\n",
      "| 67|  0|              3|115|        564|           0|          2|   160|              0|          1.6|          2|                      0|       7|      Absence|\n",
      "| 57|  1|              2|124|        261|           0|          0|   141|              0|          0.3|          1|                      0|       7|     Presence|\n",
      "| 64|  1|              4|128|        263|           0|          0|   105|              1|          0.2|          2|                      1|       7|      Absence|\n",
      "| 74|  0|              2|120|        269|           0|          2|   121|              1|          0.2|          1|                      1|       3|      Absence|\n",
      "+---+---+---------------+---+-----------+------------+-----------+------+---------------+-------------+-----------+-----------------------+--------+-------------+\n",
      "only showing top 5 rows\n",
      "\n"
     ]
    }
   ],
   "source": [
    "df.show(5)"
   ]
  },
  {
   "cell_type": "code",
   "execution_count": 38,
   "id": "8d0af584",
   "metadata": {},
   "outputs": [],
   "source": [
    "from pyspark.sql import functions "
   ]
  },
  {
   "cell_type": "code",
   "execution_count": 39,
   "id": "e4980356",
   "metadata": {},
   "outputs": [],
   "source": [
    "df = df.withColumn('Heart Disease',functions.when(df['Heart Disease']=='Presence',1).otherwise(0))"
   ]
  },
  {
   "cell_type": "code",
   "execution_count": 40,
   "id": "c8652490",
   "metadata": {},
   "outputs": [
    {
     "name": "stdout",
     "output_type": "stream",
     "text": [
      "+---+---+---------------+---+-----------+------------+-----------+------+---------------+-------------+-----------+-----------------------+--------+-------------+\n",
      "|Age|Sex|Chest pain type| BP|Cholesterol|FBS over 120|EKG results|Max HR|Exercise angina|ST depression|Slope of ST|Number of vessels fluro|Thallium|Heart Disease|\n",
      "+---+---+---------------+---+-----------+------------+-----------+------+---------------+-------------+-----------+-----------------------+--------+-------------+\n",
      "| 70|  1|              4|130|        322|           0|          2|   109|              0|          2.4|          2|                      3|       3|            1|\n",
      "| 67|  0|              3|115|        564|           0|          2|   160|              0|          1.6|          2|                      0|       7|            0|\n",
      "| 57|  1|              2|124|        261|           0|          0|   141|              0|          0.3|          1|                      0|       7|            1|\n",
      "| 64|  1|              4|128|        263|           0|          0|   105|              1|          0.2|          2|                      1|       7|            0|\n",
      "| 74|  0|              2|120|        269|           0|          2|   121|              1|          0.2|          1|                      1|       3|            0|\n",
      "+---+---+---------------+---+-----------+------------+-----------+------+---------------+-------------+-----------+-----------------------+--------+-------------+\n",
      "only showing top 5 rows\n",
      "\n"
     ]
    }
   ],
   "source": [
    "df.show(5)"
   ]
  },
  {
   "cell_type": "code",
   "execution_count": 41,
   "id": "016a1720",
   "metadata": {},
   "outputs": [],
   "source": [
    "import numpy as np"
   ]
  },
  {
   "cell_type": "code",
   "execution_count": 42,
   "id": "df22b0ce",
   "metadata": {},
   "outputs": [
    {
     "data": {
      "text/plain": [
       "[Row(Age=70, Sex=1, Chest pain type=4, BP=130, Cholesterol=322, FBS over 120=0, EKG results=2, Max HR=109, Exercise angina=0, ST depression=2.4, Slope of ST=2, Number of vessels fluro=3, Thallium=3, Heart Disease=1),\n",
       " Row(Age=67, Sex=0, Chest pain type=3, BP=115, Cholesterol=564, FBS over 120=0, EKG results=2, Max HR=160, Exercise angina=0, ST depression=1.6, Slope of ST=2, Number of vessels fluro=0, Thallium=7, Heart Disease=0),\n",
       " Row(Age=57, Sex=1, Chest pain type=2, BP=124, Cholesterol=261, FBS over 120=0, EKG results=0, Max HR=141, Exercise angina=0, ST depression=0.3, Slope of ST=1, Number of vessels fluro=0, Thallium=7, Heart Disease=1),\n",
       " Row(Age=64, Sex=1, Chest pain type=4, BP=128, Cholesterol=263, FBS over 120=0, EKG results=0, Max HR=105, Exercise angina=1, ST depression=0.2, Slope of ST=2, Number of vessels fluro=1, Thallium=7, Heart Disease=0),\n",
       " Row(Age=74, Sex=0, Chest pain type=2, BP=120, Cholesterol=269, FBS over 120=0, EKG results=2, Max HR=121, Exercise angina=1, ST depression=0.2, Slope of ST=1, Number of vessels fluro=1, Thallium=3, Heart Disease=0),\n",
       " Row(Age=65, Sex=1, Chest pain type=4, BP=120, Cholesterol=177, FBS over 120=0, EKG results=0, Max HR=140, Exercise angina=0, ST depression=0.4, Slope of ST=1, Number of vessels fluro=0, Thallium=7, Heart Disease=0),\n",
       " Row(Age=56, Sex=1, Chest pain type=3, BP=130, Cholesterol=256, FBS over 120=1, EKG results=2, Max HR=142, Exercise angina=1, ST depression=0.6, Slope of ST=2, Number of vessels fluro=1, Thallium=6, Heart Disease=1),\n",
       " Row(Age=59, Sex=1, Chest pain type=4, BP=110, Cholesterol=239, FBS over 120=0, EKG results=2, Max HR=142, Exercise angina=1, ST depression=1.2, Slope of ST=2, Number of vessels fluro=1, Thallium=7, Heart Disease=1),\n",
       " Row(Age=60, Sex=1, Chest pain type=4, BP=140, Cholesterol=293, FBS over 120=0, EKG results=2, Max HR=170, Exercise angina=0, ST depression=1.2, Slope of ST=2, Number of vessels fluro=2, Thallium=7, Heart Disease=1),\n",
       " Row(Age=63, Sex=0, Chest pain type=4, BP=150, Cholesterol=407, FBS over 120=0, EKG results=2, Max HR=154, Exercise angina=0, ST depression=4.0, Slope of ST=2, Number of vessels fluro=3, Thallium=7, Heart Disease=1),\n",
       " Row(Age=59, Sex=1, Chest pain type=4, BP=135, Cholesterol=234, FBS over 120=0, EKG results=0, Max HR=161, Exercise angina=0, ST depression=0.5, Slope of ST=2, Number of vessels fluro=0, Thallium=7, Heart Disease=0),\n",
       " Row(Age=53, Sex=1, Chest pain type=4, BP=142, Cholesterol=226, FBS over 120=0, EKG results=2, Max HR=111, Exercise angina=1, ST depression=0.0, Slope of ST=1, Number of vessels fluro=0, Thallium=7, Heart Disease=0),\n",
       " Row(Age=44, Sex=1, Chest pain type=3, BP=140, Cholesterol=235, FBS over 120=0, EKG results=2, Max HR=180, Exercise angina=0, ST depression=0.0, Slope of ST=1, Number of vessels fluro=0, Thallium=3, Heart Disease=0),\n",
       " Row(Age=61, Sex=1, Chest pain type=1, BP=134, Cholesterol=234, FBS over 120=0, EKG results=0, Max HR=145, Exercise angina=0, ST depression=2.6, Slope of ST=2, Number of vessels fluro=2, Thallium=3, Heart Disease=1),\n",
       " Row(Age=57, Sex=0, Chest pain type=4, BP=128, Cholesterol=303, FBS over 120=0, EKG results=2, Max HR=159, Exercise angina=0, ST depression=0.0, Slope of ST=1, Number of vessels fluro=1, Thallium=3, Heart Disease=0),\n",
       " Row(Age=71, Sex=0, Chest pain type=4, BP=112, Cholesterol=149, FBS over 120=0, EKG results=0, Max HR=125, Exercise angina=0, ST depression=1.6, Slope of ST=2, Number of vessels fluro=0, Thallium=3, Heart Disease=0),\n",
       " Row(Age=46, Sex=1, Chest pain type=4, BP=140, Cholesterol=311, FBS over 120=0, EKG results=0, Max HR=120, Exercise angina=1, ST depression=1.8, Slope of ST=2, Number of vessels fluro=2, Thallium=7, Heart Disease=1),\n",
       " Row(Age=53, Sex=1, Chest pain type=4, BP=140, Cholesterol=203, FBS over 120=1, EKG results=2, Max HR=155, Exercise angina=1, ST depression=3.1, Slope of ST=3, Number of vessels fluro=0, Thallium=7, Heart Disease=1),\n",
       " Row(Age=64, Sex=1, Chest pain type=1, BP=110, Cholesterol=211, FBS over 120=0, EKG results=2, Max HR=144, Exercise angina=1, ST depression=1.8, Slope of ST=2, Number of vessels fluro=0, Thallium=3, Heart Disease=0),\n",
       " Row(Age=40, Sex=1, Chest pain type=1, BP=140, Cholesterol=199, FBS over 120=0, EKG results=0, Max HR=178, Exercise angina=1, ST depression=1.4, Slope of ST=1, Number of vessels fluro=0, Thallium=7, Heart Disease=0),\n",
       " Row(Age=67, Sex=1, Chest pain type=4, BP=120, Cholesterol=229, FBS over 120=0, EKG results=2, Max HR=129, Exercise angina=1, ST depression=2.6, Slope of ST=2, Number of vessels fluro=2, Thallium=7, Heart Disease=1),\n",
       " Row(Age=48, Sex=1, Chest pain type=2, BP=130, Cholesterol=245, FBS over 120=0, EKG results=2, Max HR=180, Exercise angina=0, ST depression=0.2, Slope of ST=2, Number of vessels fluro=0, Thallium=3, Heart Disease=0),\n",
       " Row(Age=43, Sex=1, Chest pain type=4, BP=115, Cholesterol=303, FBS over 120=0, EKG results=0, Max HR=181, Exercise angina=0, ST depression=1.2, Slope of ST=2, Number of vessels fluro=0, Thallium=3, Heart Disease=0),\n",
       " Row(Age=47, Sex=1, Chest pain type=4, BP=112, Cholesterol=204, FBS over 120=0, EKG results=0, Max HR=143, Exercise angina=0, ST depression=0.1, Slope of ST=1, Number of vessels fluro=0, Thallium=3, Heart Disease=0),\n",
       " Row(Age=54, Sex=0, Chest pain type=2, BP=132, Cholesterol=288, FBS over 120=1, EKG results=2, Max HR=159, Exercise angina=1, ST depression=0.0, Slope of ST=1, Number of vessels fluro=1, Thallium=3, Heart Disease=0),\n",
       " Row(Age=48, Sex=0, Chest pain type=3, BP=130, Cholesterol=275, FBS over 120=0, EKG results=0, Max HR=139, Exercise angina=0, ST depression=0.2, Slope of ST=1, Number of vessels fluro=0, Thallium=3, Heart Disease=0),\n",
       " Row(Age=46, Sex=0, Chest pain type=4, BP=138, Cholesterol=243, FBS over 120=0, EKG results=2, Max HR=152, Exercise angina=1, ST depression=0.0, Slope of ST=2, Number of vessels fluro=0, Thallium=3, Heart Disease=0),\n",
       " Row(Age=51, Sex=0, Chest pain type=3, BP=120, Cholesterol=295, FBS over 120=0, EKG results=2, Max HR=157, Exercise angina=0, ST depression=0.6, Slope of ST=1, Number of vessels fluro=0, Thallium=3, Heart Disease=0),\n",
       " Row(Age=58, Sex=1, Chest pain type=3, BP=112, Cholesterol=230, FBS over 120=0, EKG results=2, Max HR=165, Exercise angina=0, ST depression=2.5, Slope of ST=2, Number of vessels fluro=1, Thallium=7, Heart Disease=1),\n",
       " Row(Age=71, Sex=0, Chest pain type=3, BP=110, Cholesterol=265, FBS over 120=1, EKG results=2, Max HR=130, Exercise angina=0, ST depression=0.0, Slope of ST=1, Number of vessels fluro=1, Thallium=3, Heart Disease=0),\n",
       " Row(Age=57, Sex=1, Chest pain type=3, BP=128, Cholesterol=229, FBS over 120=0, EKG results=2, Max HR=150, Exercise angina=0, ST depression=0.4, Slope of ST=2, Number of vessels fluro=1, Thallium=7, Heart Disease=1),\n",
       " Row(Age=66, Sex=1, Chest pain type=4, BP=160, Cholesterol=228, FBS over 120=0, EKG results=2, Max HR=138, Exercise angina=0, ST depression=2.3, Slope of ST=1, Number of vessels fluro=0, Thallium=6, Heart Disease=0),\n",
       " Row(Age=37, Sex=0, Chest pain type=3, BP=120, Cholesterol=215, FBS over 120=0, EKG results=0, Max HR=170, Exercise angina=0, ST depression=0.0, Slope of ST=1, Number of vessels fluro=0, Thallium=3, Heart Disease=0),\n",
       " Row(Age=59, Sex=1, Chest pain type=4, BP=170, Cholesterol=326, FBS over 120=0, EKG results=2, Max HR=140, Exercise angina=1, ST depression=3.4, Slope of ST=3, Number of vessels fluro=0, Thallium=7, Heart Disease=1),\n",
       " Row(Age=50, Sex=1, Chest pain type=4, BP=144, Cholesterol=200, FBS over 120=0, EKG results=2, Max HR=126, Exercise angina=1, ST depression=0.9, Slope of ST=2, Number of vessels fluro=0, Thallium=7, Heart Disease=1),\n",
       " Row(Age=48, Sex=1, Chest pain type=4, BP=130, Cholesterol=256, FBS over 120=1, EKG results=2, Max HR=150, Exercise angina=1, ST depression=0.0, Slope of ST=1, Number of vessels fluro=2, Thallium=7, Heart Disease=1),\n",
       " Row(Age=61, Sex=1, Chest pain type=4, BP=140, Cholesterol=207, FBS over 120=0, EKG results=2, Max HR=138, Exercise angina=1, ST depression=1.9, Slope of ST=1, Number of vessels fluro=1, Thallium=7, Heart Disease=1),\n",
       " Row(Age=59, Sex=1, Chest pain type=1, BP=160, Cholesterol=273, FBS over 120=0, EKG results=2, Max HR=125, Exercise angina=0, ST depression=0.0, Slope of ST=1, Number of vessels fluro=0, Thallium=3, Heart Disease=1),\n",
       " Row(Age=42, Sex=1, Chest pain type=3, BP=130, Cholesterol=180, FBS over 120=0, EKG results=0, Max HR=150, Exercise angina=0, ST depression=0.0, Slope of ST=1, Number of vessels fluro=0, Thallium=3, Heart Disease=0),\n",
       " Row(Age=48, Sex=1, Chest pain type=4, BP=122, Cholesterol=222, FBS over 120=0, EKG results=2, Max HR=186, Exercise angina=0, ST depression=0.0, Slope of ST=1, Number of vessels fluro=0, Thallium=3, Heart Disease=0),\n",
       " Row(Age=40, Sex=1, Chest pain type=4, BP=152, Cholesterol=223, FBS over 120=0, EKG results=0, Max HR=181, Exercise angina=0, ST depression=0.0, Slope of ST=1, Number of vessels fluro=0, Thallium=7, Heart Disease=1),\n",
       " Row(Age=62, Sex=0, Chest pain type=4, BP=124, Cholesterol=209, FBS over 120=0, EKG results=0, Max HR=163, Exercise angina=0, ST depression=0.0, Slope of ST=1, Number of vessels fluro=0, Thallium=3, Heart Disease=0),\n",
       " Row(Age=44, Sex=1, Chest pain type=3, BP=130, Cholesterol=233, FBS over 120=0, EKG results=0, Max HR=179, Exercise angina=1, ST depression=0.4, Slope of ST=1, Number of vessels fluro=0, Thallium=3, Heart Disease=0),\n",
       " Row(Age=46, Sex=1, Chest pain type=2, BP=101, Cholesterol=197, FBS over 120=1, EKG results=0, Max HR=156, Exercise angina=0, ST depression=0.0, Slope of ST=1, Number of vessels fluro=0, Thallium=7, Heart Disease=0),\n",
       " Row(Age=59, Sex=1, Chest pain type=3, BP=126, Cholesterol=218, FBS over 120=1, EKG results=0, Max HR=134, Exercise angina=0, ST depression=2.2, Slope of ST=2, Number of vessels fluro=1, Thallium=6, Heart Disease=1),\n",
       " Row(Age=58, Sex=1, Chest pain type=3, BP=140, Cholesterol=211, FBS over 120=1, EKG results=2, Max HR=165, Exercise angina=0, ST depression=0.0, Slope of ST=1, Number of vessels fluro=0, Thallium=3, Heart Disease=0),\n",
       " Row(Age=49, Sex=1, Chest pain type=3, BP=118, Cholesterol=149, FBS over 120=0, EKG results=2, Max HR=126, Exercise angina=0, ST depression=0.8, Slope of ST=1, Number of vessels fluro=3, Thallium=3, Heart Disease=1),\n",
       " Row(Age=44, Sex=1, Chest pain type=4, BP=110, Cholesterol=197, FBS over 120=0, EKG results=2, Max HR=177, Exercise angina=0, ST depression=0.0, Slope of ST=1, Number of vessels fluro=1, Thallium=3, Heart Disease=1),\n",
       " Row(Age=66, Sex=1, Chest pain type=2, BP=160, Cholesterol=246, FBS over 120=0, EKG results=0, Max HR=120, Exercise angina=1, ST depression=0.0, Slope of ST=2, Number of vessels fluro=3, Thallium=6, Heart Disease=1),\n",
       " Row(Age=65, Sex=0, Chest pain type=4, BP=150, Cholesterol=225, FBS over 120=0, EKG results=2, Max HR=114, Exercise angina=0, ST depression=1.0, Slope of ST=2, Number of vessels fluro=3, Thallium=7, Heart Disease=1),\n",
       " Row(Age=42, Sex=1, Chest pain type=4, BP=136, Cholesterol=315, FBS over 120=0, EKG results=0, Max HR=125, Exercise angina=1, ST depression=1.8, Slope of ST=2, Number of vessels fluro=0, Thallium=6, Heart Disease=1),\n",
       " Row(Age=52, Sex=1, Chest pain type=2, BP=128, Cholesterol=205, FBS over 120=1, EKG results=0, Max HR=184, Exercise angina=0, ST depression=0.0, Slope of ST=1, Number of vessels fluro=0, Thallium=3, Heart Disease=0),\n",
       " Row(Age=65, Sex=0, Chest pain type=3, BP=140, Cholesterol=417, FBS over 120=1, EKG results=2, Max HR=157, Exercise angina=0, ST depression=0.8, Slope of ST=1, Number of vessels fluro=1, Thallium=3, Heart Disease=0),\n",
       " Row(Age=63, Sex=0, Chest pain type=2, BP=140, Cholesterol=195, FBS over 120=0, EKG results=0, Max HR=179, Exercise angina=0, ST depression=0.0, Slope of ST=1, Number of vessels fluro=2, Thallium=3, Heart Disease=0),\n",
       " Row(Age=45, Sex=0, Chest pain type=2, BP=130, Cholesterol=234, FBS over 120=0, EKG results=2, Max HR=175, Exercise angina=0, ST depression=0.6, Slope of ST=2, Number of vessels fluro=0, Thallium=3, Heart Disease=0),\n",
       " Row(Age=41, Sex=0, Chest pain type=2, BP=105, Cholesterol=198, FBS over 120=0, EKG results=0, Max HR=168, Exercise angina=0, ST depression=0.0, Slope of ST=1, Number of vessels fluro=1, Thallium=3, Heart Disease=0),\n",
       " Row(Age=61, Sex=1, Chest pain type=4, BP=138, Cholesterol=166, FBS over 120=0, EKG results=2, Max HR=125, Exercise angina=1, ST depression=3.6, Slope of ST=2, Number of vessels fluro=1, Thallium=3, Heart Disease=1),\n",
       " Row(Age=60, Sex=0, Chest pain type=3, BP=120, Cholesterol=178, FBS over 120=1, EKG results=0, Max HR=96, Exercise angina=0, ST depression=0.0, Slope of ST=1, Number of vessels fluro=0, Thallium=3, Heart Disease=0),\n",
       " Row(Age=59, Sex=0, Chest pain type=4, BP=174, Cholesterol=249, FBS over 120=0, EKG results=0, Max HR=143, Exercise angina=1, ST depression=0.0, Slope of ST=2, Number of vessels fluro=0, Thallium=3, Heart Disease=1),\n",
       " Row(Age=62, Sex=1, Chest pain type=2, BP=120, Cholesterol=281, FBS over 120=0, EKG results=2, Max HR=103, Exercise angina=0, ST depression=1.4, Slope of ST=2, Number of vessels fluro=1, Thallium=7, Heart Disease=1),\n",
       " Row(Age=57, Sex=1, Chest pain type=3, BP=150, Cholesterol=126, FBS over 120=1, EKG results=0, Max HR=173, Exercise angina=0, ST depression=0.2, Slope of ST=1, Number of vessels fluro=1, Thallium=7, Heart Disease=0),\n",
       " Row(Age=51, Sex=0, Chest pain type=4, BP=130, Cholesterol=305, FBS over 120=0, EKG results=0, Max HR=142, Exercise angina=1, ST depression=1.2, Slope of ST=2, Number of vessels fluro=0, Thallium=7, Heart Disease=1),\n",
       " Row(Age=44, Sex=1, Chest pain type=3, BP=120, Cholesterol=226, FBS over 120=0, EKG results=0, Max HR=169, Exercise angina=0, ST depression=0.0, Slope of ST=1, Number of vessels fluro=0, Thallium=3, Heart Disease=0),\n",
       " Row(Age=60, Sex=0, Chest pain type=1, BP=150, Cholesterol=240, FBS over 120=0, EKG results=0, Max HR=171, Exercise angina=0, ST depression=0.9, Slope of ST=1, Number of vessels fluro=0, Thallium=3, Heart Disease=0),\n",
       " Row(Age=63, Sex=1, Chest pain type=1, BP=145, Cholesterol=233, FBS over 120=1, EKG results=2, Max HR=150, Exercise angina=0, ST depression=2.3, Slope of ST=3, Number of vessels fluro=0, Thallium=6, Heart Disease=0),\n",
       " Row(Age=57, Sex=1, Chest pain type=4, BP=150, Cholesterol=276, FBS over 120=0, EKG results=2, Max HR=112, Exercise angina=1, ST depression=0.6, Slope of ST=2, Number of vessels fluro=1, Thallium=6, Heart Disease=1),\n",
       " Row(Age=51, Sex=1, Chest pain type=4, BP=140, Cholesterol=261, FBS over 120=0, EKG results=2, Max HR=186, Exercise angina=1, ST depression=0.0, Slope of ST=1, Number of vessels fluro=0, Thallium=3, Heart Disease=0),\n",
       " Row(Age=58, Sex=0, Chest pain type=2, BP=136, Cholesterol=319, FBS over 120=1, EKG results=2, Max HR=152, Exercise angina=0, ST depression=0.0, Slope of ST=1, Number of vessels fluro=2, Thallium=3, Heart Disease=1),\n",
       " Row(Age=44, Sex=0, Chest pain type=3, BP=118, Cholesterol=242, FBS over 120=0, EKG results=0, Max HR=149, Exercise angina=0, ST depression=0.3, Slope of ST=2, Number of vessels fluro=1, Thallium=3, Heart Disease=0),\n",
       " Row(Age=47, Sex=1, Chest pain type=3, BP=108, Cholesterol=243, FBS over 120=0, EKG results=0, Max HR=152, Exercise angina=0, ST depression=0.0, Slope of ST=1, Number of vessels fluro=0, Thallium=3, Heart Disease=1),\n",
       " Row(Age=61, Sex=1, Chest pain type=4, BP=120, Cholesterol=260, FBS over 120=0, EKG results=0, Max HR=140, Exercise angina=1, ST depression=3.6, Slope of ST=2, Number of vessels fluro=1, Thallium=7, Heart Disease=1),\n",
       " Row(Age=57, Sex=0, Chest pain type=4, BP=120, Cholesterol=354, FBS over 120=0, EKG results=0, Max HR=163, Exercise angina=1, ST depression=0.6, Slope of ST=1, Number of vessels fluro=0, Thallium=3, Heart Disease=0),\n",
       " Row(Age=70, Sex=1, Chest pain type=2, BP=156, Cholesterol=245, FBS over 120=0, EKG results=2, Max HR=143, Exercise angina=0, ST depression=0.0, Slope of ST=1, Number of vessels fluro=0, Thallium=3, Heart Disease=0),\n",
       " Row(Age=76, Sex=0, Chest pain type=3, BP=140, Cholesterol=197, FBS over 120=0, EKG results=1, Max HR=116, Exercise angina=0, ST depression=1.1, Slope of ST=2, Number of vessels fluro=0, Thallium=3, Heart Disease=0),\n",
       " Row(Age=67, Sex=0, Chest pain type=4, BP=106, Cholesterol=223, FBS over 120=0, EKG results=0, Max HR=142, Exercise angina=0, ST depression=0.3, Slope of ST=1, Number of vessels fluro=2, Thallium=3, Heart Disease=0),\n",
       " Row(Age=45, Sex=1, Chest pain type=4, BP=142, Cholesterol=309, FBS over 120=0, EKG results=2, Max HR=147, Exercise angina=1, ST depression=0.0, Slope of ST=2, Number of vessels fluro=3, Thallium=7, Heart Disease=1),\n",
       " Row(Age=45, Sex=1, Chest pain type=4, BP=104, Cholesterol=208, FBS over 120=0, EKG results=2, Max HR=148, Exercise angina=1, ST depression=3.0, Slope of ST=2, Number of vessels fluro=0, Thallium=3, Heart Disease=0),\n",
       " Row(Age=39, Sex=0, Chest pain type=3, BP=94, Cholesterol=199, FBS over 120=0, EKG results=0, Max HR=179, Exercise angina=0, ST depression=0.0, Slope of ST=1, Number of vessels fluro=0, Thallium=3, Heart Disease=0),\n",
       " Row(Age=42, Sex=0, Chest pain type=3, BP=120, Cholesterol=209, FBS over 120=0, EKG results=0, Max HR=173, Exercise angina=0, ST depression=0.0, Slope of ST=2, Number of vessels fluro=0, Thallium=3, Heart Disease=0),\n",
       " Row(Age=56, Sex=1, Chest pain type=2, BP=120, Cholesterol=236, FBS over 120=0, EKG results=0, Max HR=178, Exercise angina=0, ST depression=0.8, Slope of ST=1, Number of vessels fluro=0, Thallium=3, Heart Disease=0),\n",
       " Row(Age=58, Sex=1, Chest pain type=4, BP=146, Cholesterol=218, FBS over 120=0, EKG results=0, Max HR=105, Exercise angina=0, ST depression=2.0, Slope of ST=2, Number of vessels fluro=1, Thallium=7, Heart Disease=1),\n",
       " Row(Age=35, Sex=1, Chest pain type=4, BP=120, Cholesterol=198, FBS over 120=0, EKG results=0, Max HR=130, Exercise angina=1, ST depression=1.6, Slope of ST=2, Number of vessels fluro=0, Thallium=7, Heart Disease=1),\n",
       " Row(Age=58, Sex=1, Chest pain type=4, BP=150, Cholesterol=270, FBS over 120=0, EKG results=2, Max HR=111, Exercise angina=1, ST depression=0.8, Slope of ST=1, Number of vessels fluro=0, Thallium=7, Heart Disease=1),\n",
       " Row(Age=41, Sex=1, Chest pain type=3, BP=130, Cholesterol=214, FBS over 120=0, EKG results=2, Max HR=168, Exercise angina=0, ST depression=2.0, Slope of ST=2, Number of vessels fluro=0, Thallium=3, Heart Disease=0),\n",
       " Row(Age=57, Sex=1, Chest pain type=4, BP=110, Cholesterol=201, FBS over 120=0, EKG results=0, Max HR=126, Exercise angina=1, ST depression=1.5, Slope of ST=2, Number of vessels fluro=0, Thallium=6, Heart Disease=0),\n",
       " Row(Age=42, Sex=1, Chest pain type=1, BP=148, Cholesterol=244, FBS over 120=0, EKG results=2, Max HR=178, Exercise angina=0, ST depression=0.8, Slope of ST=1, Number of vessels fluro=2, Thallium=3, Heart Disease=0),\n",
       " Row(Age=62, Sex=1, Chest pain type=2, BP=128, Cholesterol=208, FBS over 120=1, EKG results=2, Max HR=140, Exercise angina=0, ST depression=0.0, Slope of ST=1, Number of vessels fluro=0, Thallium=3, Heart Disease=0),\n",
       " Row(Age=59, Sex=1, Chest pain type=1, BP=178, Cholesterol=270, FBS over 120=0, EKG results=2, Max HR=145, Exercise angina=0, ST depression=4.2, Slope of ST=3, Number of vessels fluro=0, Thallium=7, Heart Disease=0),\n",
       " Row(Age=41, Sex=0, Chest pain type=2, BP=126, Cholesterol=306, FBS over 120=0, EKG results=0, Max HR=163, Exercise angina=0, ST depression=0.0, Slope of ST=1, Number of vessels fluro=0, Thallium=3, Heart Disease=0),\n",
       " Row(Age=50, Sex=1, Chest pain type=4, BP=150, Cholesterol=243, FBS over 120=0, EKG results=2, Max HR=128, Exercise angina=0, ST depression=2.6, Slope of ST=2, Number of vessels fluro=0, Thallium=7, Heart Disease=1),\n",
       " Row(Age=59, Sex=1, Chest pain type=2, BP=140, Cholesterol=221, FBS over 120=0, EKG results=0, Max HR=164, Exercise angina=1, ST depression=0.0, Slope of ST=1, Number of vessels fluro=0, Thallium=3, Heart Disease=0),\n",
       " Row(Age=61, Sex=0, Chest pain type=4, BP=130, Cholesterol=330, FBS over 120=0, EKG results=2, Max HR=169, Exercise angina=0, ST depression=0.0, Slope of ST=1, Number of vessels fluro=0, Thallium=3, Heart Disease=1),\n",
       " Row(Age=54, Sex=1, Chest pain type=4, BP=124, Cholesterol=266, FBS over 120=0, EKG results=2, Max HR=109, Exercise angina=1, ST depression=2.2, Slope of ST=2, Number of vessels fluro=1, Thallium=7, Heart Disease=1),\n",
       " Row(Age=54, Sex=1, Chest pain type=4, BP=110, Cholesterol=206, FBS over 120=0, EKG results=2, Max HR=108, Exercise angina=1, ST depression=0.0, Slope of ST=2, Number of vessels fluro=1, Thallium=3, Heart Disease=1),\n",
       " Row(Age=52, Sex=1, Chest pain type=4, BP=125, Cholesterol=212, FBS over 120=0, EKG results=0, Max HR=168, Exercise angina=0, ST depression=1.0, Slope of ST=1, Number of vessels fluro=2, Thallium=7, Heart Disease=1),\n",
       " Row(Age=47, Sex=1, Chest pain type=4, BP=110, Cholesterol=275, FBS over 120=0, EKG results=2, Max HR=118, Exercise angina=1, ST depression=1.0, Slope of ST=2, Number of vessels fluro=1, Thallium=3, Heart Disease=1),\n",
       " Row(Age=66, Sex=1, Chest pain type=4, BP=120, Cholesterol=302, FBS over 120=0, EKG results=2, Max HR=151, Exercise angina=0, ST depression=0.4, Slope of ST=2, Number of vessels fluro=0, Thallium=3, Heart Disease=0),\n",
       " Row(Age=58, Sex=1, Chest pain type=4, BP=100, Cholesterol=234, FBS over 120=0, EKG results=0, Max HR=156, Exercise angina=0, ST depression=0.1, Slope of ST=1, Number of vessels fluro=1, Thallium=7, Heart Disease=1),\n",
       " Row(Age=64, Sex=0, Chest pain type=3, BP=140, Cholesterol=313, FBS over 120=0, EKG results=0, Max HR=133, Exercise angina=0, ST depression=0.2, Slope of ST=1, Number of vessels fluro=0, Thallium=7, Heart Disease=0),\n",
       " Row(Age=50, Sex=0, Chest pain type=2, BP=120, Cholesterol=244, FBS over 120=0, EKG results=0, Max HR=162, Exercise angina=0, ST depression=1.1, Slope of ST=1, Number of vessels fluro=0, Thallium=3, Heart Disease=0),\n",
       " Row(Age=44, Sex=0, Chest pain type=3, BP=108, Cholesterol=141, FBS over 120=0, EKG results=0, Max HR=175, Exercise angina=0, ST depression=0.6, Slope of ST=2, Number of vessels fluro=0, Thallium=3, Heart Disease=0),\n",
       " Row(Age=67, Sex=1, Chest pain type=4, BP=120, Cholesterol=237, FBS over 120=0, EKG results=0, Max HR=71, Exercise angina=0, ST depression=1.0, Slope of ST=2, Number of vessels fluro=0, Thallium=3, Heart Disease=1),\n",
       " Row(Age=49, Sex=0, Chest pain type=4, BP=130, Cholesterol=269, FBS over 120=0, EKG results=0, Max HR=163, Exercise angina=0, ST depression=0.0, Slope of ST=1, Number of vessels fluro=0, Thallium=3, Heart Disease=0),\n",
       " Row(Age=57, Sex=1, Chest pain type=4, BP=165, Cholesterol=289, FBS over 120=1, EKG results=2, Max HR=124, Exercise angina=0, ST depression=1.0, Slope of ST=2, Number of vessels fluro=3, Thallium=7, Heart Disease=1),\n",
       " Row(Age=63, Sex=1, Chest pain type=4, BP=130, Cholesterol=254, FBS over 120=0, EKG results=2, Max HR=147, Exercise angina=0, ST depression=1.4, Slope of ST=2, Number of vessels fluro=1, Thallium=7, Heart Disease=1),\n",
       " Row(Age=48, Sex=1, Chest pain type=4, BP=124, Cholesterol=274, FBS over 120=0, EKG results=2, Max HR=166, Exercise angina=0, ST depression=0.5, Slope of ST=2, Number of vessels fluro=0, Thallium=7, Heart Disease=1),\n",
       " Row(Age=51, Sex=1, Chest pain type=3, BP=100, Cholesterol=222, FBS over 120=0, EKG results=0, Max HR=143, Exercise angina=1, ST depression=1.2, Slope of ST=2, Number of vessels fluro=0, Thallium=3, Heart Disease=0),\n",
       " Row(Age=60, Sex=0, Chest pain type=4, BP=150, Cholesterol=258, FBS over 120=0, EKG results=2, Max HR=157, Exercise angina=0, ST depression=2.6, Slope of ST=2, Number of vessels fluro=2, Thallium=7, Heart Disease=1),\n",
       " Row(Age=59, Sex=1, Chest pain type=4, BP=140, Cholesterol=177, FBS over 120=0, EKG results=0, Max HR=162, Exercise angina=1, ST depression=0.0, Slope of ST=1, Number of vessels fluro=1, Thallium=7, Heart Disease=1),\n",
       " Row(Age=45, Sex=0, Chest pain type=2, BP=112, Cholesterol=160, FBS over 120=0, EKG results=0, Max HR=138, Exercise angina=0, ST depression=0.0, Slope of ST=2, Number of vessels fluro=0, Thallium=3, Heart Disease=0),\n",
       " Row(Age=55, Sex=0, Chest pain type=4, BP=180, Cholesterol=327, FBS over 120=0, EKG results=1, Max HR=117, Exercise angina=1, ST depression=3.4, Slope of ST=2, Number of vessels fluro=0, Thallium=3, Heart Disease=1),\n",
       " Row(Age=41, Sex=1, Chest pain type=2, BP=110, Cholesterol=235, FBS over 120=0, EKG results=0, Max HR=153, Exercise angina=0, ST depression=0.0, Slope of ST=1, Number of vessels fluro=0, Thallium=3, Heart Disease=0),\n",
       " Row(Age=60, Sex=0, Chest pain type=4, BP=158, Cholesterol=305, FBS over 120=0, EKG results=2, Max HR=161, Exercise angina=0, ST depression=0.0, Slope of ST=1, Number of vessels fluro=0, Thallium=3, Heart Disease=1),\n",
       " Row(Age=54, Sex=0, Chest pain type=3, BP=135, Cholesterol=304, FBS over 120=1, EKG results=0, Max HR=170, Exercise angina=0, ST depression=0.0, Slope of ST=1, Number of vessels fluro=0, Thallium=3, Heart Disease=0),\n",
       " Row(Age=42, Sex=1, Chest pain type=2, BP=120, Cholesterol=295, FBS over 120=0, EKG results=0, Max HR=162, Exercise angina=0, ST depression=0.0, Slope of ST=1, Number of vessels fluro=0, Thallium=3, Heart Disease=0),\n",
       " Row(Age=49, Sex=0, Chest pain type=2, BP=134, Cholesterol=271, FBS over 120=0, EKG results=0, Max HR=162, Exercise angina=0, ST depression=0.0, Slope of ST=2, Number of vessels fluro=0, Thallium=3, Heart Disease=0),\n",
       " Row(Age=46, Sex=1, Chest pain type=4, BP=120, Cholesterol=249, FBS over 120=0, EKG results=2, Max HR=144, Exercise angina=0, ST depression=0.8, Slope of ST=1, Number of vessels fluro=0, Thallium=7, Heart Disease=1),\n",
       " Row(Age=56, Sex=0, Chest pain type=4, BP=200, Cholesterol=288, FBS over 120=1, EKG results=2, Max HR=133, Exercise angina=1, ST depression=4.0, Slope of ST=3, Number of vessels fluro=2, Thallium=7, Heart Disease=1),\n",
       " Row(Age=66, Sex=0, Chest pain type=1, BP=150, Cholesterol=226, FBS over 120=0, EKG results=0, Max HR=114, Exercise angina=0, ST depression=2.6, Slope of ST=3, Number of vessels fluro=0, Thallium=3, Heart Disease=0),\n",
       " Row(Age=56, Sex=1, Chest pain type=4, BP=130, Cholesterol=283, FBS over 120=1, EKG results=2, Max HR=103, Exercise angina=1, ST depression=1.6, Slope of ST=3, Number of vessels fluro=0, Thallium=7, Heart Disease=1),\n",
       " Row(Age=49, Sex=1, Chest pain type=3, BP=120, Cholesterol=188, FBS over 120=0, EKG results=0, Max HR=139, Exercise angina=0, ST depression=2.0, Slope of ST=2, Number of vessels fluro=3, Thallium=7, Heart Disease=1),\n",
       " Row(Age=54, Sex=1, Chest pain type=4, BP=122, Cholesterol=286, FBS over 120=0, EKG results=2, Max HR=116, Exercise angina=1, ST depression=3.2, Slope of ST=2, Number of vessels fluro=2, Thallium=3, Heart Disease=1),\n",
       " Row(Age=57, Sex=1, Chest pain type=4, BP=152, Cholesterol=274, FBS over 120=0, EKG results=0, Max HR=88, Exercise angina=1, ST depression=1.2, Slope of ST=2, Number of vessels fluro=1, Thallium=7, Heart Disease=1),\n",
       " Row(Age=65, Sex=0, Chest pain type=3, BP=160, Cholesterol=360, FBS over 120=0, EKG results=2, Max HR=151, Exercise angina=0, ST depression=0.8, Slope of ST=1, Number of vessels fluro=0, Thallium=3, Heart Disease=0),\n",
       " Row(Age=54, Sex=1, Chest pain type=3, BP=125, Cholesterol=273, FBS over 120=0, EKG results=2, Max HR=152, Exercise angina=0, ST depression=0.5, Slope of ST=3, Number of vessels fluro=1, Thallium=3, Heart Disease=0),\n",
       " Row(Age=54, Sex=0, Chest pain type=3, BP=160, Cholesterol=201, FBS over 120=0, EKG results=0, Max HR=163, Exercise angina=0, ST depression=0.0, Slope of ST=1, Number of vessels fluro=1, Thallium=3, Heart Disease=0),\n",
       " Row(Age=62, Sex=1, Chest pain type=4, BP=120, Cholesterol=267, FBS over 120=0, EKG results=0, Max HR=99, Exercise angina=1, ST depression=1.8, Slope of ST=2, Number of vessels fluro=2, Thallium=7, Heart Disease=1),\n",
       " Row(Age=52, Sex=0, Chest pain type=3, BP=136, Cholesterol=196, FBS over 120=0, EKG results=2, Max HR=169, Exercise angina=0, ST depression=0.1, Slope of ST=2, Number of vessels fluro=0, Thallium=3, Heart Disease=0),\n",
       " Row(Age=52, Sex=1, Chest pain type=2, BP=134, Cholesterol=201, FBS over 120=0, EKG results=0, Max HR=158, Exercise angina=0, ST depression=0.8, Slope of ST=1, Number of vessels fluro=1, Thallium=3, Heart Disease=0),\n",
       " Row(Age=60, Sex=1, Chest pain type=4, BP=117, Cholesterol=230, FBS over 120=1, EKG results=0, Max HR=160, Exercise angina=1, ST depression=1.4, Slope of ST=1, Number of vessels fluro=2, Thallium=7, Heart Disease=1),\n",
       " Row(Age=63, Sex=0, Chest pain type=4, BP=108, Cholesterol=269, FBS over 120=0, EKG results=0, Max HR=169, Exercise angina=1, ST depression=1.8, Slope of ST=2, Number of vessels fluro=2, Thallium=3, Heart Disease=1),\n",
       " Row(Age=66, Sex=1, Chest pain type=4, BP=112, Cholesterol=212, FBS over 120=0, EKG results=2, Max HR=132, Exercise angina=1, ST depression=0.1, Slope of ST=1, Number of vessels fluro=1, Thallium=3, Heart Disease=1),\n",
       " Row(Age=42, Sex=1, Chest pain type=4, BP=140, Cholesterol=226, FBS over 120=0, EKG results=0, Max HR=178, Exercise angina=0, ST depression=0.0, Slope of ST=1, Number of vessels fluro=0, Thallium=3, Heart Disease=0),\n",
       " Row(Age=64, Sex=1, Chest pain type=4, BP=120, Cholesterol=246, FBS over 120=0, EKG results=2, Max HR=96, Exercise angina=1, ST depression=2.2, Slope of ST=3, Number of vessels fluro=1, Thallium=3, Heart Disease=1),\n",
       " Row(Age=54, Sex=1, Chest pain type=3, BP=150, Cholesterol=232, FBS over 120=0, EKG results=2, Max HR=165, Exercise angina=0, ST depression=1.6, Slope of ST=1, Number of vessels fluro=0, Thallium=7, Heart Disease=0),\n",
       " Row(Age=46, Sex=0, Chest pain type=3, BP=142, Cholesterol=177, FBS over 120=0, EKG results=2, Max HR=160, Exercise angina=1, ST depression=1.4, Slope of ST=3, Number of vessels fluro=0, Thallium=3, Heart Disease=0),\n",
       " Row(Age=67, Sex=0, Chest pain type=3, BP=152, Cholesterol=277, FBS over 120=0, EKG results=0, Max HR=172, Exercise angina=0, ST depression=0.0, Slope of ST=1, Number of vessels fluro=1, Thallium=3, Heart Disease=0),\n",
       " Row(Age=56, Sex=1, Chest pain type=4, BP=125, Cholesterol=249, FBS over 120=1, EKG results=2, Max HR=144, Exercise angina=1, ST depression=1.2, Slope of ST=2, Number of vessels fluro=1, Thallium=3, Heart Disease=1),\n",
       " Row(Age=34, Sex=0, Chest pain type=2, BP=118, Cholesterol=210, FBS over 120=0, EKG results=0, Max HR=192, Exercise angina=0, ST depression=0.7, Slope of ST=1, Number of vessels fluro=0, Thallium=3, Heart Disease=0),\n",
       " Row(Age=57, Sex=1, Chest pain type=4, BP=132, Cholesterol=207, FBS over 120=0, EKG results=0, Max HR=168, Exercise angina=1, ST depression=0.0, Slope of ST=1, Number of vessels fluro=0, Thallium=7, Heart Disease=0),\n",
       " Row(Age=64, Sex=1, Chest pain type=4, BP=145, Cholesterol=212, FBS over 120=0, EKG results=2, Max HR=132, Exercise angina=0, ST depression=2.0, Slope of ST=2, Number of vessels fluro=2, Thallium=6, Heart Disease=1),\n",
       " Row(Age=59, Sex=1, Chest pain type=4, BP=138, Cholesterol=271, FBS over 120=0, EKG results=2, Max HR=182, Exercise angina=0, ST depression=0.0, Slope of ST=1, Number of vessels fluro=0, Thallium=3, Heart Disease=0),\n",
       " Row(Age=50, Sex=1, Chest pain type=3, BP=140, Cholesterol=233, FBS over 120=0, EKG results=0, Max HR=163, Exercise angina=0, ST depression=0.6, Slope of ST=2, Number of vessels fluro=1, Thallium=7, Heart Disease=1),\n",
       " Row(Age=51, Sex=1, Chest pain type=1, BP=125, Cholesterol=213, FBS over 120=0, EKG results=2, Max HR=125, Exercise angina=1, ST depression=1.4, Slope of ST=1, Number of vessels fluro=1, Thallium=3, Heart Disease=0),\n",
       " Row(Age=54, Sex=1, Chest pain type=2, BP=192, Cholesterol=283, FBS over 120=0, EKG results=2, Max HR=195, Exercise angina=0, ST depression=0.0, Slope of ST=1, Number of vessels fluro=1, Thallium=7, Heart Disease=1),\n",
       " Row(Age=53, Sex=1, Chest pain type=4, BP=123, Cholesterol=282, FBS over 120=0, EKG results=0, Max HR=95, Exercise angina=1, ST depression=2.0, Slope of ST=2, Number of vessels fluro=2, Thallium=7, Heart Disease=1),\n",
       " Row(Age=52, Sex=1, Chest pain type=4, BP=112, Cholesterol=230, FBS over 120=0, EKG results=0, Max HR=160, Exercise angina=0, ST depression=0.0, Slope of ST=1, Number of vessels fluro=1, Thallium=3, Heart Disease=1),\n",
       " Row(Age=40, Sex=1, Chest pain type=4, BP=110, Cholesterol=167, FBS over 120=0, EKG results=2, Max HR=114, Exercise angina=1, ST depression=2.0, Slope of ST=2, Number of vessels fluro=0, Thallium=7, Heart Disease=1),\n",
       " Row(Age=58, Sex=1, Chest pain type=3, BP=132, Cholesterol=224, FBS over 120=0, EKG results=2, Max HR=173, Exercise angina=0, ST depression=3.2, Slope of ST=1, Number of vessels fluro=2, Thallium=7, Heart Disease=1),\n",
       " Row(Age=41, Sex=0, Chest pain type=3, BP=112, Cholesterol=268, FBS over 120=0, EKG results=2, Max HR=172, Exercise angina=1, ST depression=0.0, Slope of ST=1, Number of vessels fluro=0, Thallium=3, Heart Disease=0),\n",
       " Row(Age=41, Sex=1, Chest pain type=3, BP=112, Cholesterol=250, FBS over 120=0, EKG results=0, Max HR=179, Exercise angina=0, ST depression=0.0, Slope of ST=1, Number of vessels fluro=0, Thallium=3, Heart Disease=0),\n",
       " Row(Age=50, Sex=0, Chest pain type=3, BP=120, Cholesterol=219, FBS over 120=0, EKG results=0, Max HR=158, Exercise angina=0, ST depression=1.6, Slope of ST=2, Number of vessels fluro=0, Thallium=3, Heart Disease=0),\n",
       " Row(Age=54, Sex=0, Chest pain type=3, BP=108, Cholesterol=267, FBS over 120=0, EKG results=2, Max HR=167, Exercise angina=0, ST depression=0.0, Slope of ST=1, Number of vessels fluro=0, Thallium=3, Heart Disease=0),\n",
       " Row(Age=64, Sex=0, Chest pain type=4, BP=130, Cholesterol=303, FBS over 120=0, EKG results=0, Max HR=122, Exercise angina=0, ST depression=2.0, Slope of ST=2, Number of vessels fluro=2, Thallium=3, Heart Disease=0),\n",
       " Row(Age=51, Sex=0, Chest pain type=3, BP=130, Cholesterol=256, FBS over 120=0, EKG results=2, Max HR=149, Exercise angina=0, ST depression=0.5, Slope of ST=1, Number of vessels fluro=0, Thallium=3, Heart Disease=0),\n",
       " Row(Age=46, Sex=0, Chest pain type=2, BP=105, Cholesterol=204, FBS over 120=0, EKG results=0, Max HR=172, Exercise angina=0, ST depression=0.0, Slope of ST=1, Number of vessels fluro=0, Thallium=3, Heart Disease=0),\n",
       " Row(Age=55, Sex=1, Chest pain type=4, BP=140, Cholesterol=217, FBS over 120=0, EKG results=0, Max HR=111, Exercise angina=1, ST depression=5.6, Slope of ST=3, Number of vessels fluro=0, Thallium=7, Heart Disease=1),\n",
       " Row(Age=45, Sex=1, Chest pain type=2, BP=128, Cholesterol=308, FBS over 120=0, EKG results=2, Max HR=170, Exercise angina=0, ST depression=0.0, Slope of ST=1, Number of vessels fluro=0, Thallium=3, Heart Disease=0),\n",
       " Row(Age=56, Sex=1, Chest pain type=1, BP=120, Cholesterol=193, FBS over 120=0, EKG results=2, Max HR=162, Exercise angina=0, ST depression=1.9, Slope of ST=2, Number of vessels fluro=0, Thallium=7, Heart Disease=0),\n",
       " Row(Age=66, Sex=0, Chest pain type=4, BP=178, Cholesterol=228, FBS over 120=1, EKG results=0, Max HR=165, Exercise angina=1, ST depression=1.0, Slope of ST=2, Number of vessels fluro=2, Thallium=7, Heart Disease=1),\n",
       " Row(Age=38, Sex=1, Chest pain type=1, BP=120, Cholesterol=231, FBS over 120=0, EKG results=0, Max HR=182, Exercise angina=1, ST depression=3.8, Slope of ST=2, Number of vessels fluro=0, Thallium=7, Heart Disease=1),\n",
       " Row(Age=62, Sex=0, Chest pain type=4, BP=150, Cholesterol=244, FBS over 120=0, EKG results=0, Max HR=154, Exercise angina=1, ST depression=1.4, Slope of ST=2, Number of vessels fluro=0, Thallium=3, Heart Disease=1),\n",
       " Row(Age=55, Sex=1, Chest pain type=2, BP=130, Cholesterol=262, FBS over 120=0, EKG results=0, Max HR=155, Exercise angina=0, ST depression=0.0, Slope of ST=1, Number of vessels fluro=0, Thallium=3, Heart Disease=0),\n",
       " Row(Age=58, Sex=1, Chest pain type=4, BP=128, Cholesterol=259, FBS over 120=0, EKG results=2, Max HR=130, Exercise angina=1, ST depression=3.0, Slope of ST=2, Number of vessels fluro=2, Thallium=7, Heart Disease=1),\n",
       " Row(Age=43, Sex=1, Chest pain type=4, BP=110, Cholesterol=211, FBS over 120=0, EKG results=0, Max HR=161, Exercise angina=0, ST depression=0.0, Slope of ST=1, Number of vessels fluro=0, Thallium=7, Heart Disease=0),\n",
       " Row(Age=64, Sex=0, Chest pain type=4, BP=180, Cholesterol=325, FBS over 120=0, EKG results=0, Max HR=154, Exercise angina=1, ST depression=0.0, Slope of ST=1, Number of vessels fluro=0, Thallium=3, Heart Disease=0),\n",
       " Row(Age=50, Sex=0, Chest pain type=4, BP=110, Cholesterol=254, FBS over 120=0, EKG results=2, Max HR=159, Exercise angina=0, ST depression=0.0, Slope of ST=1, Number of vessels fluro=0, Thallium=3, Heart Disease=0),\n",
       " Row(Age=53, Sex=1, Chest pain type=3, BP=130, Cholesterol=197, FBS over 120=1, EKG results=2, Max HR=152, Exercise angina=0, ST depression=1.2, Slope of ST=3, Number of vessels fluro=0, Thallium=3, Heart Disease=0),\n",
       " Row(Age=45, Sex=0, Chest pain type=4, BP=138, Cholesterol=236, FBS over 120=0, EKG results=2, Max HR=152, Exercise angina=1, ST depression=0.2, Slope of ST=2, Number of vessels fluro=0, Thallium=3, Heart Disease=0),\n",
       " Row(Age=65, Sex=1, Chest pain type=1, BP=138, Cholesterol=282, FBS over 120=1, EKG results=2, Max HR=174, Exercise angina=0, ST depression=1.4, Slope of ST=2, Number of vessels fluro=1, Thallium=3, Heart Disease=1),\n",
       " Row(Age=69, Sex=1, Chest pain type=1, BP=160, Cholesterol=234, FBS over 120=1, EKG results=2, Max HR=131, Exercise angina=0, ST depression=0.1, Slope of ST=2, Number of vessels fluro=1, Thallium=3, Heart Disease=0),\n",
       " Row(Age=69, Sex=1, Chest pain type=3, BP=140, Cholesterol=254, FBS over 120=0, EKG results=2, Max HR=146, Exercise angina=0, ST depression=2.0, Slope of ST=2, Number of vessels fluro=3, Thallium=7, Heart Disease=1),\n",
       " Row(Age=67, Sex=1, Chest pain type=4, BP=100, Cholesterol=299, FBS over 120=0, EKG results=2, Max HR=125, Exercise angina=1, ST depression=0.9, Slope of ST=2, Number of vessels fluro=2, Thallium=3, Heart Disease=1),\n",
       " Row(Age=68, Sex=0, Chest pain type=3, BP=120, Cholesterol=211, FBS over 120=0, EKG results=2, Max HR=115, Exercise angina=0, ST depression=1.5, Slope of ST=2, Number of vessels fluro=0, Thallium=3, Heart Disease=0),\n",
       " Row(Age=34, Sex=1, Chest pain type=1, BP=118, Cholesterol=182, FBS over 120=0, EKG results=2, Max HR=174, Exercise angina=0, ST depression=0.0, Slope of ST=1, Number of vessels fluro=0, Thallium=3, Heart Disease=0),\n",
       " Row(Age=62, Sex=0, Chest pain type=4, BP=138, Cholesterol=294, FBS over 120=1, EKG results=0, Max HR=106, Exercise angina=0, ST depression=1.9, Slope of ST=2, Number of vessels fluro=3, Thallium=3, Heart Disease=1),\n",
       " Row(Age=51, Sex=1, Chest pain type=4, BP=140, Cholesterol=298, FBS over 120=0, EKG results=0, Max HR=122, Exercise angina=1, ST depression=4.2, Slope of ST=2, Number of vessels fluro=3, Thallium=7, Heart Disease=1),\n",
       " Row(Age=46, Sex=1, Chest pain type=3, BP=150, Cholesterol=231, FBS over 120=0, EKG results=0, Max HR=147, Exercise angina=0, ST depression=3.6, Slope of ST=2, Number of vessels fluro=0, Thallium=3, Heart Disease=1),\n",
       " Row(Age=67, Sex=1, Chest pain type=4, BP=125, Cholesterol=254, FBS over 120=1, EKG results=0, Max HR=163, Exercise angina=0, ST depression=0.2, Slope of ST=2, Number of vessels fluro=2, Thallium=7, Heart Disease=1),\n",
       " Row(Age=50, Sex=1, Chest pain type=3, BP=129, Cholesterol=196, FBS over 120=0, EKG results=0, Max HR=163, Exercise angina=0, ST depression=0.0, Slope of ST=1, Number of vessels fluro=0, Thallium=3, Heart Disease=0),\n",
       " Row(Age=42, Sex=1, Chest pain type=3, BP=120, Cholesterol=240, FBS over 120=1, EKG results=0, Max HR=194, Exercise angina=0, ST depression=0.8, Slope of ST=3, Number of vessels fluro=0, Thallium=7, Heart Disease=0),\n",
       " Row(Age=56, Sex=0, Chest pain type=4, BP=134, Cholesterol=409, FBS over 120=0, EKG results=2, Max HR=150, Exercise angina=1, ST depression=1.9, Slope of ST=2, Number of vessels fluro=2, Thallium=7, Heart Disease=1),\n",
       " Row(Age=41, Sex=1, Chest pain type=4, BP=110, Cholesterol=172, FBS over 120=0, EKG results=2, Max HR=158, Exercise angina=0, ST depression=0.0, Slope of ST=1, Number of vessels fluro=0, Thallium=7, Heart Disease=1),\n",
       " Row(Age=42, Sex=0, Chest pain type=4, BP=102, Cholesterol=265, FBS over 120=0, EKG results=2, Max HR=122, Exercise angina=0, ST depression=0.6, Slope of ST=2, Number of vessels fluro=0, Thallium=3, Heart Disease=0),\n",
       " Row(Age=53, Sex=1, Chest pain type=3, BP=130, Cholesterol=246, FBS over 120=1, EKG results=2, Max HR=173, Exercise angina=0, ST depression=0.0, Slope of ST=1, Number of vessels fluro=3, Thallium=3, Heart Disease=0),\n",
       " Row(Age=43, Sex=1, Chest pain type=3, BP=130, Cholesterol=315, FBS over 120=0, EKG results=0, Max HR=162, Exercise angina=0, ST depression=1.9, Slope of ST=1, Number of vessels fluro=1, Thallium=3, Heart Disease=0),\n",
       " Row(Age=56, Sex=1, Chest pain type=4, BP=132, Cholesterol=184, FBS over 120=0, EKG results=2, Max HR=105, Exercise angina=1, ST depression=2.1, Slope of ST=2, Number of vessels fluro=1, Thallium=6, Heart Disease=1),\n",
       " Row(Age=52, Sex=1, Chest pain type=4, BP=108, Cholesterol=233, FBS over 120=1, EKG results=0, Max HR=147, Exercise angina=0, ST depression=0.1, Slope of ST=1, Number of vessels fluro=3, Thallium=7, Heart Disease=0),\n",
       " Row(Age=62, Sex=0, Chest pain type=4, BP=140, Cholesterol=394, FBS over 120=0, EKG results=2, Max HR=157, Exercise angina=0, ST depression=1.2, Slope of ST=2, Number of vessels fluro=0, Thallium=3, Heart Disease=0),\n",
       " Row(Age=70, Sex=1, Chest pain type=3, BP=160, Cholesterol=269, FBS over 120=0, EKG results=0, Max HR=112, Exercise angina=1, ST depression=2.9, Slope of ST=2, Number of vessels fluro=1, Thallium=7, Heart Disease=1),\n",
       " Row(Age=54, Sex=1, Chest pain type=4, BP=140, Cholesterol=239, FBS over 120=0, EKG results=0, Max HR=160, Exercise angina=0, ST depression=1.2, Slope of ST=1, Number of vessels fluro=0, Thallium=3, Heart Disease=0),\n",
       " Row(Age=70, Sex=1, Chest pain type=4, BP=145, Cholesterol=174, FBS over 120=0, EKG results=0, Max HR=125, Exercise angina=1, ST depression=2.6, Slope of ST=3, Number of vessels fluro=0, Thallium=7, Heart Disease=1),\n",
       " Row(Age=54, Sex=1, Chest pain type=2, BP=108, Cholesterol=309, FBS over 120=0, EKG results=0, Max HR=156, Exercise angina=0, ST depression=0.0, Slope of ST=1, Number of vessels fluro=0, Thallium=7, Heart Disease=0),\n",
       " Row(Age=35, Sex=1, Chest pain type=4, BP=126, Cholesterol=282, FBS over 120=0, EKG results=2, Max HR=156, Exercise angina=1, ST depression=0.0, Slope of ST=1, Number of vessels fluro=0, Thallium=7, Heart Disease=1),\n",
       " Row(Age=48, Sex=1, Chest pain type=3, BP=124, Cholesterol=255, FBS over 120=1, EKG results=0, Max HR=175, Exercise angina=0, ST depression=0.0, Slope of ST=1, Number of vessels fluro=2, Thallium=3, Heart Disease=0),\n",
       " Row(Age=55, Sex=0, Chest pain type=2, BP=135, Cholesterol=250, FBS over 120=0, EKG results=2, Max HR=161, Exercise angina=0, ST depression=1.4, Slope of ST=2, Number of vessels fluro=0, Thallium=3, Heart Disease=0),\n",
       " Row(Age=58, Sex=0, Chest pain type=4, BP=100, Cholesterol=248, FBS over 120=0, EKG results=2, Max HR=122, Exercise angina=0, ST depression=1.0, Slope of ST=2, Number of vessels fluro=0, Thallium=3, Heart Disease=0),\n",
       " Row(Age=54, Sex=0, Chest pain type=3, BP=110, Cholesterol=214, FBS over 120=0, EKG results=0, Max HR=158, Exercise angina=0, ST depression=1.6, Slope of ST=2, Number of vessels fluro=0, Thallium=3, Heart Disease=0),\n",
       " Row(Age=69, Sex=0, Chest pain type=1, BP=140, Cholesterol=239, FBS over 120=0, EKG results=0, Max HR=151, Exercise angina=0, ST depression=1.8, Slope of ST=1, Number of vessels fluro=2, Thallium=3, Heart Disease=0),\n",
       " Row(Age=77, Sex=1, Chest pain type=4, BP=125, Cholesterol=304, FBS over 120=0, EKG results=2, Max HR=162, Exercise angina=1, ST depression=0.0, Slope of ST=1, Number of vessels fluro=3, Thallium=3, Heart Disease=1),\n",
       " Row(Age=68, Sex=1, Chest pain type=3, BP=118, Cholesterol=277, FBS over 120=0, EKG results=0, Max HR=151, Exercise angina=0, ST depression=1.0, Slope of ST=1, Number of vessels fluro=1, Thallium=7, Heart Disease=0),\n",
       " Row(Age=58, Sex=1, Chest pain type=4, BP=125, Cholesterol=300, FBS over 120=0, EKG results=2, Max HR=171, Exercise angina=0, ST depression=0.0, Slope of ST=1, Number of vessels fluro=2, Thallium=7, Heart Disease=1),\n",
       " Row(Age=60, Sex=1, Chest pain type=4, BP=125, Cholesterol=258, FBS over 120=0, EKG results=2, Max HR=141, Exercise angina=1, ST depression=2.8, Slope of ST=2, Number of vessels fluro=1, Thallium=7, Heart Disease=1),\n",
       " Row(Age=51, Sex=1, Chest pain type=4, BP=140, Cholesterol=299, FBS over 120=0, EKG results=0, Max HR=173, Exercise angina=1, ST depression=1.6, Slope of ST=1, Number of vessels fluro=0, Thallium=7, Heart Disease=1),\n",
       " Row(Age=55, Sex=1, Chest pain type=4, BP=160, Cholesterol=289, FBS over 120=0, EKG results=2, Max HR=145, Exercise angina=1, ST depression=0.8, Slope of ST=2, Number of vessels fluro=1, Thallium=7, Heart Disease=1),\n",
       " Row(Age=52, Sex=1, Chest pain type=1, BP=152, Cholesterol=298, FBS over 120=1, EKG results=0, Max HR=178, Exercise angina=0, ST depression=1.2, Slope of ST=2, Number of vessels fluro=0, Thallium=7, Heart Disease=0),\n",
       " Row(Age=60, Sex=0, Chest pain type=3, BP=102, Cholesterol=318, FBS over 120=0, EKG results=0, Max HR=160, Exercise angina=0, ST depression=0.0, Slope of ST=1, Number of vessels fluro=1, Thallium=3, Heart Disease=0),\n",
       " Row(Age=58, Sex=1, Chest pain type=3, BP=105, Cholesterol=240, FBS over 120=0, EKG results=2, Max HR=154, Exercise angina=1, ST depression=0.6, Slope of ST=2, Number of vessels fluro=0, Thallium=7, Heart Disease=0),\n",
       " Row(Age=64, Sex=1, Chest pain type=3, BP=125, Cholesterol=309, FBS over 120=0, EKG results=0, Max HR=131, Exercise angina=1, ST depression=1.8, Slope of ST=2, Number of vessels fluro=0, Thallium=7, Heart Disease=1),\n",
       " Row(Age=37, Sex=1, Chest pain type=3, BP=130, Cholesterol=250, FBS over 120=0, EKG results=0, Max HR=187, Exercise angina=0, ST depression=3.5, Slope of ST=3, Number of vessels fluro=0, Thallium=3, Heart Disease=0),\n",
       " Row(Age=59, Sex=1, Chest pain type=1, BP=170, Cholesterol=288, FBS over 120=0, EKG results=2, Max HR=159, Exercise angina=0, ST depression=0.2, Slope of ST=2, Number of vessels fluro=0, Thallium=7, Heart Disease=1),\n",
       " Row(Age=51, Sex=1, Chest pain type=3, BP=125, Cholesterol=245, FBS over 120=1, EKG results=2, Max HR=166, Exercise angina=0, ST depression=2.4, Slope of ST=2, Number of vessels fluro=0, Thallium=3, Heart Disease=0),\n",
       " Row(Age=43, Sex=0, Chest pain type=3, BP=122, Cholesterol=213, FBS over 120=0, EKG results=0, Max HR=165, Exercise angina=0, ST depression=0.2, Slope of ST=2, Number of vessels fluro=0, Thallium=3, Heart Disease=0),\n",
       " Row(Age=58, Sex=1, Chest pain type=4, BP=128, Cholesterol=216, FBS over 120=0, EKG results=2, Max HR=131, Exercise angina=1, ST depression=2.2, Slope of ST=2, Number of vessels fluro=3, Thallium=7, Heart Disease=1),\n",
       " Row(Age=29, Sex=1, Chest pain type=2, BP=130, Cholesterol=204, FBS over 120=0, EKG results=2, Max HR=202, Exercise angina=0, ST depression=0.0, Slope of ST=1, Number of vessels fluro=0, Thallium=3, Heart Disease=0),\n",
       " Row(Age=41, Sex=0, Chest pain type=2, BP=130, Cholesterol=204, FBS over 120=0, EKG results=2, Max HR=172, Exercise angina=0, ST depression=1.4, Slope of ST=1, Number of vessels fluro=0, Thallium=3, Heart Disease=0),\n",
       " Row(Age=63, Sex=0, Chest pain type=3, BP=135, Cholesterol=252, FBS over 120=0, EKG results=2, Max HR=172, Exercise angina=0, ST depression=0.0, Slope of ST=1, Number of vessels fluro=0, Thallium=3, Heart Disease=0),\n",
       " Row(Age=51, Sex=1, Chest pain type=3, BP=94, Cholesterol=227, FBS over 120=0, EKG results=0, Max HR=154, Exercise angina=1, ST depression=0.0, Slope of ST=1, Number of vessels fluro=1, Thallium=7, Heart Disease=0),\n",
       " Row(Age=54, Sex=1, Chest pain type=3, BP=120, Cholesterol=258, FBS over 120=0, EKG results=2, Max HR=147, Exercise angina=0, ST depression=0.4, Slope of ST=2, Number of vessels fluro=0, Thallium=7, Heart Disease=0),\n",
       " Row(Age=44, Sex=1, Chest pain type=2, BP=120, Cholesterol=220, FBS over 120=0, EKG results=0, Max HR=170, Exercise angina=0, ST depression=0.0, Slope of ST=1, Number of vessels fluro=0, Thallium=3, Heart Disease=0),\n",
       " Row(Age=54, Sex=1, Chest pain type=4, BP=110, Cholesterol=239, FBS over 120=0, EKG results=0, Max HR=126, Exercise angina=1, ST depression=2.8, Slope of ST=2, Number of vessels fluro=1, Thallium=7, Heart Disease=1),\n",
       " Row(Age=65, Sex=1, Chest pain type=4, BP=135, Cholesterol=254, FBS over 120=0, EKG results=2, Max HR=127, Exercise angina=0, ST depression=2.8, Slope of ST=2, Number of vessels fluro=1, Thallium=7, Heart Disease=1),\n",
       " Row(Age=57, Sex=1, Chest pain type=3, BP=150, Cholesterol=168, FBS over 120=0, EKG results=0, Max HR=174, Exercise angina=0, ST depression=1.6, Slope of ST=1, Number of vessels fluro=0, Thallium=3, Heart Disease=0),\n",
       " Row(Age=63, Sex=1, Chest pain type=4, BP=130, Cholesterol=330, FBS over 120=1, EKG results=2, Max HR=132, Exercise angina=1, ST depression=1.8, Slope of ST=1, Number of vessels fluro=3, Thallium=7, Heart Disease=1),\n",
       " Row(Age=35, Sex=0, Chest pain type=4, BP=138, Cholesterol=183, FBS over 120=0, EKG results=0, Max HR=182, Exercise angina=0, ST depression=1.4, Slope of ST=1, Number of vessels fluro=0, Thallium=3, Heart Disease=0),\n",
       " Row(Age=41, Sex=1, Chest pain type=2, BP=135, Cholesterol=203, FBS over 120=0, EKG results=0, Max HR=132, Exercise angina=0, ST depression=0.0, Slope of ST=2, Number of vessels fluro=0, Thallium=6, Heart Disease=0),\n",
       " Row(Age=62, Sex=0, Chest pain type=3, BP=130, Cholesterol=263, FBS over 120=0, EKG results=0, Max HR=97, Exercise angina=0, ST depression=1.2, Slope of ST=2, Number of vessels fluro=1, Thallium=7, Heart Disease=1),\n",
       " Row(Age=43, Sex=0, Chest pain type=4, BP=132, Cholesterol=341, FBS over 120=1, EKG results=2, Max HR=136, Exercise angina=1, ST depression=3.0, Slope of ST=2, Number of vessels fluro=0, Thallium=7, Heart Disease=1),\n",
       " Row(Age=58, Sex=0, Chest pain type=1, BP=150, Cholesterol=283, FBS over 120=1, EKG results=2, Max HR=162, Exercise angina=0, ST depression=1.0, Slope of ST=1, Number of vessels fluro=0, Thallium=3, Heart Disease=0),\n",
       " Row(Age=52, Sex=1, Chest pain type=1, BP=118, Cholesterol=186, FBS over 120=0, EKG results=2, Max HR=190, Exercise angina=0, ST depression=0.0, Slope of ST=2, Number of vessels fluro=0, Thallium=6, Heart Disease=0),\n",
       " Row(Age=61, Sex=0, Chest pain type=4, BP=145, Cholesterol=307, FBS over 120=0, EKG results=2, Max HR=146, Exercise angina=1, ST depression=1.0, Slope of ST=2, Number of vessels fluro=0, Thallium=7, Heart Disease=1),\n",
       " Row(Age=39, Sex=1, Chest pain type=4, BP=118, Cholesterol=219, FBS over 120=0, EKG results=0, Max HR=140, Exercise angina=0, ST depression=1.2, Slope of ST=2, Number of vessels fluro=0, Thallium=7, Heart Disease=1),\n",
       " Row(Age=45, Sex=1, Chest pain type=4, BP=115, Cholesterol=260, FBS over 120=0, EKG results=2, Max HR=185, Exercise angina=0, ST depression=0.0, Slope of ST=1, Number of vessels fluro=0, Thallium=3, Heart Disease=0),\n",
       " Row(Age=52, Sex=1, Chest pain type=4, BP=128, Cholesterol=255, FBS over 120=0, EKG results=0, Max HR=161, Exercise angina=1, ST depression=0.0, Slope of ST=1, Number of vessels fluro=1, Thallium=7, Heart Disease=1),\n",
       " Row(Age=62, Sex=1, Chest pain type=3, BP=130, Cholesterol=231, FBS over 120=0, EKG results=0, Max HR=146, Exercise angina=0, ST depression=1.8, Slope of ST=2, Number of vessels fluro=3, Thallium=7, Heart Disease=0),\n",
       " Row(Age=62, Sex=0, Chest pain type=4, BP=160, Cholesterol=164, FBS over 120=0, EKG results=2, Max HR=145, Exercise angina=0, ST depression=6.2, Slope of ST=3, Number of vessels fluro=3, Thallium=7, Heart Disease=1),\n",
       " Row(Age=53, Sex=0, Chest pain type=4, BP=138, Cholesterol=234, FBS over 120=0, EKG results=2, Max HR=160, Exercise angina=0, ST depression=0.0, Slope of ST=1, Number of vessels fluro=0, Thallium=3, Heart Disease=0),\n",
       " Row(Age=43, Sex=1, Chest pain type=4, BP=120, Cholesterol=177, FBS over 120=0, EKG results=2, Max HR=120, Exercise angina=1, ST depression=2.5, Slope of ST=2, Number of vessels fluro=0, Thallium=7, Heart Disease=1),\n",
       " Row(Age=47, Sex=1, Chest pain type=3, BP=138, Cholesterol=257, FBS over 120=0, EKG results=2, Max HR=156, Exercise angina=0, ST depression=0.0, Slope of ST=1, Number of vessels fluro=0, Thallium=3, Heart Disease=0),\n",
       " Row(Age=52, Sex=1, Chest pain type=2, BP=120, Cholesterol=325, FBS over 120=0, EKG results=0, Max HR=172, Exercise angina=0, ST depression=0.2, Slope of ST=1, Number of vessels fluro=0, Thallium=3, Heart Disease=0),\n",
       " Row(Age=68, Sex=1, Chest pain type=3, BP=180, Cholesterol=274, FBS over 120=1, EKG results=2, Max HR=150, Exercise angina=1, ST depression=1.6, Slope of ST=2, Number of vessels fluro=0, Thallium=7, Heart Disease=1),\n",
       " Row(Age=39, Sex=1, Chest pain type=3, BP=140, Cholesterol=321, FBS over 120=0, EKG results=2, Max HR=182, Exercise angina=0, ST depression=0.0, Slope of ST=1, Number of vessels fluro=0, Thallium=3, Heart Disease=0),\n",
       " Row(Age=53, Sex=0, Chest pain type=4, BP=130, Cholesterol=264, FBS over 120=0, EKG results=2, Max HR=143, Exercise angina=0, ST depression=0.4, Slope of ST=2, Number of vessels fluro=0, Thallium=3, Heart Disease=0),\n",
       " Row(Age=62, Sex=0, Chest pain type=4, BP=140, Cholesterol=268, FBS over 120=0, EKG results=2, Max HR=160, Exercise angina=0, ST depression=3.6, Slope of ST=3, Number of vessels fluro=2, Thallium=3, Heart Disease=1),\n",
       " Row(Age=51, Sex=0, Chest pain type=3, BP=140, Cholesterol=308, FBS over 120=0, EKG results=2, Max HR=142, Exercise angina=0, ST depression=1.5, Slope of ST=1, Number of vessels fluro=1, Thallium=3, Heart Disease=0),\n",
       " Row(Age=60, Sex=1, Chest pain type=4, BP=130, Cholesterol=253, FBS over 120=0, EKG results=0, Max HR=144, Exercise angina=1, ST depression=1.4, Slope of ST=1, Number of vessels fluro=1, Thallium=7, Heart Disease=1),\n",
       " Row(Age=65, Sex=1, Chest pain type=4, BP=110, Cholesterol=248, FBS over 120=0, EKG results=2, Max HR=158, Exercise angina=0, ST depression=0.6, Slope of ST=1, Number of vessels fluro=2, Thallium=6, Heart Disease=1),\n",
       " Row(Age=65, Sex=0, Chest pain type=3, BP=155, Cholesterol=269, FBS over 120=0, EKG results=0, Max HR=148, Exercise angina=0, ST depression=0.8, Slope of ST=1, Number of vessels fluro=0, Thallium=3, Heart Disease=0),\n",
       " Row(Age=60, Sex=1, Chest pain type=3, BP=140, Cholesterol=185, FBS over 120=0, EKG results=2, Max HR=155, Exercise angina=0, ST depression=3.0, Slope of ST=2, Number of vessels fluro=0, Thallium=3, Heart Disease=1),\n",
       " Row(Age=60, Sex=1, Chest pain type=4, BP=145, Cholesterol=282, FBS over 120=0, EKG results=2, Max HR=142, Exercise angina=1, ST depression=2.8, Slope of ST=2, Number of vessels fluro=2, Thallium=7, Heart Disease=1),\n",
       " Row(Age=54, Sex=1, Chest pain type=4, BP=120, Cholesterol=188, FBS over 120=0, EKG results=0, Max HR=113, Exercise angina=0, ST depression=1.4, Slope of ST=2, Number of vessels fluro=1, Thallium=7, Heart Disease=1),\n",
       " Row(Age=44, Sex=1, Chest pain type=2, BP=130, Cholesterol=219, FBS over 120=0, EKG results=2, Max HR=188, Exercise angina=0, ST depression=0.0, Slope of ST=1, Number of vessels fluro=0, Thallium=3, Heart Disease=0),\n",
       " Row(Age=44, Sex=1, Chest pain type=4, BP=112, Cholesterol=290, FBS over 120=0, EKG results=2, Max HR=153, Exercise angina=0, ST depression=0.0, Slope of ST=1, Number of vessels fluro=1, Thallium=3, Heart Disease=1),\n",
       " Row(Age=51, Sex=1, Chest pain type=3, BP=110, Cholesterol=175, FBS over 120=0, EKG results=0, Max HR=123, Exercise angina=0, ST depression=0.6, Slope of ST=1, Number of vessels fluro=0, Thallium=3, Heart Disease=0),\n",
       " Row(Age=59, Sex=1, Chest pain type=3, BP=150, Cholesterol=212, FBS over 120=1, EKG results=0, Max HR=157, Exercise angina=0, ST depression=1.6, Slope of ST=1, Number of vessels fluro=0, Thallium=3, Heart Disease=0),\n",
       " Row(Age=71, Sex=0, Chest pain type=2, BP=160, Cholesterol=302, FBS over 120=0, EKG results=0, Max HR=162, Exercise angina=0, ST depression=0.4, Slope of ST=1, Number of vessels fluro=2, Thallium=3, Heart Disease=0),\n",
       " Row(Age=61, Sex=1, Chest pain type=3, BP=150, Cholesterol=243, FBS over 120=1, EKG results=0, Max HR=137, Exercise angina=1, ST depression=1.0, Slope of ST=2, Number of vessels fluro=0, Thallium=3, Heart Disease=0),\n",
       " Row(Age=55, Sex=1, Chest pain type=4, BP=132, Cholesterol=353, FBS over 120=0, EKG results=0, Max HR=132, Exercise angina=1, ST depression=1.2, Slope of ST=2, Number of vessels fluro=1, Thallium=7, Heart Disease=1),\n",
       " Row(Age=64, Sex=1, Chest pain type=3, BP=140, Cholesterol=335, FBS over 120=0, EKG results=0, Max HR=158, Exercise angina=0, ST depression=0.0, Slope of ST=1, Number of vessels fluro=0, Thallium=3, Heart Disease=1),\n",
       " Row(Age=43, Sex=1, Chest pain type=4, BP=150, Cholesterol=247, FBS over 120=0, EKG results=0, Max HR=171, Exercise angina=0, ST depression=1.5, Slope of ST=1, Number of vessels fluro=0, Thallium=3, Heart Disease=0),\n",
       " Row(Age=58, Sex=0, Chest pain type=3, BP=120, Cholesterol=340, FBS over 120=0, EKG results=0, Max HR=172, Exercise angina=0, ST depression=0.0, Slope of ST=1, Number of vessels fluro=0, Thallium=3, Heart Disease=0),\n",
       " Row(Age=60, Sex=1, Chest pain type=4, BP=130, Cholesterol=206, FBS over 120=0, EKG results=2, Max HR=132, Exercise angina=1, ST depression=2.4, Slope of ST=2, Number of vessels fluro=2, Thallium=7, Heart Disease=1),\n",
       " Row(Age=58, Sex=1, Chest pain type=2, BP=120, Cholesterol=284, FBS over 120=0, EKG results=2, Max HR=160, Exercise angina=0, ST depression=1.8, Slope of ST=2, Number of vessels fluro=0, Thallium=3, Heart Disease=1),\n",
       " Row(Age=49, Sex=1, Chest pain type=2, BP=130, Cholesterol=266, FBS over 120=0, EKG results=0, Max HR=171, Exercise angina=0, ST depression=0.6, Slope of ST=1, Number of vessels fluro=0, Thallium=3, Heart Disease=0),\n",
       " Row(Age=48, Sex=1, Chest pain type=2, BP=110, Cholesterol=229, FBS over 120=0, EKG results=0, Max HR=168, Exercise angina=0, ST depression=1.0, Slope of ST=3, Number of vessels fluro=0, Thallium=7, Heart Disease=1),\n",
       " Row(Age=52, Sex=1, Chest pain type=3, BP=172, Cholesterol=199, FBS over 120=1, EKG results=0, Max HR=162, Exercise angina=0, ST depression=0.5, Slope of ST=1, Number of vessels fluro=0, Thallium=7, Heart Disease=0),\n",
       " Row(Age=44, Sex=1, Chest pain type=2, BP=120, Cholesterol=263, FBS over 120=0, EKG results=0, Max HR=173, Exercise angina=0, ST depression=0.0, Slope of ST=1, Number of vessels fluro=0, Thallium=7, Heart Disease=0),\n",
       " Row(Age=56, Sex=0, Chest pain type=2, BP=140, Cholesterol=294, FBS over 120=0, EKG results=2, Max HR=153, Exercise angina=0, ST depression=1.3, Slope of ST=2, Number of vessels fluro=0, Thallium=3, Heart Disease=0),\n",
       " Row(Age=57, Sex=1, Chest pain type=4, BP=140, Cholesterol=192, FBS over 120=0, EKG results=0, Max HR=148, Exercise angina=0, ST depression=0.4, Slope of ST=2, Number of vessels fluro=0, Thallium=6, Heart Disease=0),\n",
       " Row(Age=67, Sex=1, Chest pain type=4, BP=160, Cholesterol=286, FBS over 120=0, EKG results=2, Max HR=108, Exercise angina=1, ST depression=1.5, Slope of ST=2, Number of vessels fluro=3, Thallium=3, Heart Disease=1)]"
      ]
     },
     "execution_count": 42,
     "metadata": {},
     "output_type": "execute_result"
    }
   ],
   "source": [
    "df.collect()"
   ]
  },
  {
   "cell_type": "code",
   "execution_count": 43,
   "id": "66def7e7",
   "metadata": {},
   "outputs": [
    {
     "data": {
      "text/plain": [
       "array([[70.,  1.,  4., ...,  3.,  3.,  1.],\n",
       "       [67.,  0.,  3., ...,  0.,  7.,  0.],\n",
       "       [57.,  1.,  2., ...,  0.,  7.,  1.],\n",
       "       ...,\n",
       "       [56.,  0.,  2., ...,  0.,  3.,  0.],\n",
       "       [57.,  1.,  4., ...,  0.,  6.,  0.],\n",
       "       [67.,  1.,  4., ...,  3.,  3.,  1.]])"
      ]
     },
     "execution_count": 43,
     "metadata": {},
     "output_type": "execute_result"
    }
   ],
   "source": [
    "data_array =  np.array(df.collect())\n",
    "data_array #view the array"
   ]
  },
  {
   "cell_type": "code",
   "execution_count": 44,
   "id": "00f6e6d7",
   "metadata": {},
   "outputs": [
    {
     "data": {
      "text/plain": [
       "(270, 14)"
      ]
     },
     "execution_count": 44,
     "metadata": {},
     "output_type": "execute_result"
    }
   ],
   "source": [
    "data_array.shape"
   ]
  },
  {
   "cell_type": "code",
   "execution_count": 45,
   "id": "38838312",
   "metadata": {},
   "outputs": [
    {
     "data": {
      "text/plain": [
       "array([ 70. ,   1. ,   4. , 130. , 322. ,   0. ,   2. , 109. ,   0. ,\n",
       "         2.4,   2. ,   3. ,   3. ,   1. ])"
      ]
     },
     "execution_count": 45,
     "metadata": {},
     "output_type": "execute_result"
    }
   ],
   "source": [
    "data_array[0]"
   ]
  },
  {
   "cell_type": "code",
   "execution_count": 46,
   "id": "5afe9958",
   "metadata": {},
   "outputs": [
    {
     "name": "stdout",
     "output_type": "stream",
     "text": [
      "[ 77.    1.    4.  200.  564.    1.    2.  202.    1.    6.2   3.    3.\n",
      "   7.    1. ]\n",
      "[ 29.   0.   1.  94. 126.   0.   0.  71.   0.   0.   1.   0.   3.   0.]\n"
     ]
    }
   ],
   "source": [
    "print(data_array.max(axis=0))\n",
    "print(data_array.min(axis=0))"
   ]
  },
  {
   "cell_type": "code",
   "execution_count": 47,
   "id": "f46ecf93",
   "metadata": {},
   "outputs": [],
   "source": [
    "import matplotlib.pyplot as plt\n",
    "%matplotlib inline"
   ]
  },
  {
   "cell_type": "code",
   "execution_count": 48,
   "id": "248bb239",
   "metadata": {},
   "outputs": [],
   "source": [
    "np.random.seed(12345)"
   ]
  },
  {
   "cell_type": "code",
   "execution_count": 49,
   "id": "90169258",
   "metadata": {},
   "outputs": [],
   "source": [
    "w1 = np.random.randn()\n",
    "w2 = np.random.randn()\n",
    "b= np.random.randn()"
   ]
  },
  {
   "cell_type": "code",
   "execution_count": 50,
   "id": "89b25c01",
   "metadata": {},
   "outputs": [
    {
     "name": "stdout",
     "output_type": "stream",
     "text": [
      "-0.20470765948471295 0.47894333805754824 -0.5194387150567381\n"
     ]
    }
   ],
   "source": [
    "print(w1, w2, b)"
   ]
  },
  {
   "cell_type": "code",
   "execution_count": 51,
   "id": "8cba6c1a",
   "metadata": {},
   "outputs": [
    {
     "name": "stdout",
     "output_type": "stream",
     "text": [
      "[[70.  1.  4. ...  2.  3.  3.]\n",
      " [67.  0.  3. ...  2.  0.  7.]\n",
      " [57.  1.  2. ...  1.  0.  7.]\n",
      " ...\n",
      " [56.  0.  2. ...  2.  0.  3.]\n",
      " [57.  1.  4. ...  2.  0.  6.]\n",
      " [67.  1.  4. ...  2.  3.  3.]] [1. 0. 1. 0. 0. 0. 1. 1. 1. 1. 0. 0. 0. 1. 0. 0. 1. 1. 0. 0. 1. 0. 0. 0.\n",
      " 0. 0. 0. 0. 1. 0. 1. 0. 0. 1. 1. 1. 1. 1. 0. 0. 1. 0. 0. 0. 1. 0. 1. 1.\n",
      " 1. 1. 1. 0. 0. 0. 0. 0. 1. 0. 1. 1. 0. 1. 0. 0. 0. 1. 0. 1. 0. 1. 1. 0.\n",
      " 0. 0. 0. 1. 0. 0. 0. 0. 1. 1. 1. 0. 0. 0. 0. 0. 0. 1. 0. 1. 1. 1. 1. 1.\n",
      " 0. 1. 0. 0. 0. 1. 0. 1. 1. 1. 0. 1. 1. 0. 1. 0. 1. 0. 0. 0. 1. 1. 0. 1.\n",
      " 1. 1. 1. 0. 0. 0. 1. 0. 0. 1. 1. 1. 0. 1. 0. 0. 0. 1. 0. 0. 1. 0. 1. 0.\n",
      " 1. 1. 1. 1. 1. 0. 0. 0. 0. 0. 0. 0. 1. 0. 0. 1. 1. 1. 0. 1. 0. 0. 0. 0.\n",
      " 0. 1. 0. 1. 1. 0. 0. 1. 1. 1. 1. 0. 0. 1. 1. 0. 0. 0. 1. 0. 0. 1. 0. 1.\n",
      " 0. 1. 0. 0. 0. 0. 0. 1. 0. 1. 1. 1. 1. 0. 0. 0. 1. 0. 1. 0. 0. 1. 0. 0.\n",
      " 0. 0. 0. 0. 1. 1. 0. 1. 0. 0. 1. 1. 0. 0. 1. 1. 0. 1. 0. 1. 0. 1. 0. 0.\n",
      " 1. 0. 0. 1. 0. 1. 1. 0. 1. 1. 1. 0. 1. 0. 0. 0. 0. 1. 1. 0. 0. 1. 1. 0.\n",
      " 1. 0. 0. 0. 0. 1.]\n"
     ]
    }
   ],
   "source": [
    "X = data_array[:,:13]\n",
    "y = data_array[:,13]\n",
    "print(X,y)"
   ]
  },
  {
   "cell_type": "code",
   "execution_count": 52,
   "id": "ae2a2aea",
   "metadata": {},
   "outputs": [
    {
     "name": "stdout",
     "output_type": "stream",
     "text": [
      "[5.44333333e+01 6.77777778e-01 3.17407407e+00 1.31344444e+02\n",
      " 2.49659259e+02 1.48148148e-01 1.02222222e+00 1.49677778e+02\n",
      " 3.29629630e-01 1.05000000e+00 1.58518519e+00 6.70370370e-01\n",
      " 4.69629630e+00] [ 9.09218223  0.46732757  0.94832898 17.82850056 51.59043307  0.35524678\n",
      "  0.99604155 23.1227775   0.47007865  1.14308711  0.61325102  0.94214681\n",
      "  1.93706182]\n"
     ]
    }
   ],
   "source": [
    "x_mean = X.mean(axis=0)\n",
    "x_std = X.std(axis=0)\n",
    "print(x_mean, x_std)"
   ]
  },
  {
   "cell_type": "code",
   "execution_count": 53,
   "id": "fdb5033c",
   "metadata": {},
   "outputs": [
    {
     "name": "stdout",
     "output_type": "stream",
     "text": [
      "standard deviation\n",
      "9.0\n",
      "mean\n",
      "54.0\n"
     ]
    }
   ],
   "source": [
    "#Age Only For Now\n",
    "print('standard deviation')\n",
    "print(round(X[:,0].std(axis=0),0))\n",
    "print('mean')\n",
    "print(round(X[:,0].mean(axis=0),0))"
   ]
  },
  {
   "cell_type": "code",
   "execution_count": 54,
   "id": "fd626805",
   "metadata": {},
   "outputs": [
    {
     "name": "stdout",
     "output_type": "stream",
     "text": [
      "[[70.  1.  4. ...  3.  3.  1.]\n",
      " [67.  0.  3. ...  0.  7.  0.]\n",
      " [57.  1.  2. ...  0.  7.  1.]\n",
      " ...\n",
      " [56.  0.  2. ...  0.  3.  0.]\n",
      " [57.  1.  4. ...  0.  6.  0.]\n",
      " [67.  1.  4. ...  3.  3.  1.]]\n"
     ]
    }
   ],
   "source": [
    "data_array = np.column_stack((X[:,0], X[:,1], X[:,2], X[:,3], X[:,4], X[:,5], X[:,6], X[:,7], X[:,8], X[:,9], X[:,10], X[:,11], X[:,12],y))\n",
    "print(data_array)"
   ]
  },
  {
   "cell_type": "code",
   "execution_count": 55,
   "id": "811feb22",
   "metadata": {},
   "outputs": [
    {
     "data": {
      "image/png": "[encoded data removed]",
      "text/plain": [
       "<Figure size 675x300 with 1 Axes>"
      ]
     },
     "metadata": {
      "needs_background": "light"
     },
     "output_type": "display_data"
    }
   ],
   "source": [
    "# formatting the plot grid, scales, and figure size\n",
    "plt.figure(figsize=(9, 4), dpi= 75)\n",
    "# plt.axis([min_x,max_x,min_y,max_y])\n",
    "plt.grid()\n",
    "for i in range(len(data_array)):\n",
    "    value_n = data_array[i]\n",
    "    # assign labels values to specific matrix elements\n",
    "    outcome_n = value_n[13]\n",
    "    height_n = value_n[0]\n",
    "    sex_n = value_n[1]\n",
    "    an = plt.scatter(height_n[outcome_n==0.0],sex_n[outcome_n==0.0], marker = 'x', c= 'b', label = 'Heart Disease')\n",
    "    bn = plt.scatter(height_n[outcome_n==1.0],sex_n[outcome_n==1.0], marker = 'o', c= 'b', label = 'No Heart Disease')    \n",
    "    # plot values, title, legend, x and y axis\n",
    "    plt.title('Sex vs Age by Outcome (normalized)')\n",
    "    plt.xlabel('Age (Yrs)')\n",
    "    plt.ylabel('Sex')\n",
    "    plt.legend(handles=[an,bn])"
   ]
  },
  {
   "cell_type": "markdown",
   "id": "09693d71",
   "metadata": {},
   "source": [
    "New Section for NN"
   ]
  },
  {
   "cell_type": "code",
   "execution_count": 56,
   "id": "ff5d7b88",
   "metadata": {},
   "outputs": [],
   "source": [
    "#Create first network with Keras\n",
    "import keras\n",
    "from keras.models import Sequential\n",
    "from keras.layers import Dense\n",
    "import numpy\n",
    "import pandas as pd\n",
    "import sklearn\n",
    "from sklearn.preprocessing import StandardScaler"
   ]
  },
  {
   "cell_type": "code",
   "execution_count": 57,
   "id": "f860c030",
   "metadata": {},
   "outputs": [],
   "source": [
    "# fix random seed for reproducibility\n",
    "seed = 7\n",
    "numpy.random.seed(seed)"
   ]
  },
  {
   "cell_type": "code",
   "execution_count": 58,
   "id": "2d8e8331",
   "metadata": {},
   "outputs": [],
   "source": [
    "dataset = df"
   ]
  },
  {
   "cell_type": "code",
   "execution_count": 59,
   "id": "bdf9ee75",
   "metadata": {},
   "outputs": [
    {
     "data": {
      "text/plain": [
       "Row(Age=70, Sex=1, Chest pain type=4, BP=130, Cholesterol=322, FBS over 120=0, EKG results=2, Max HR=109, Exercise angina=0, ST depression=2.4, Slope of ST=2, Number of vessels fluro=3, Thallium=3, Heart Disease=1)"
      ]
     },
     "execution_count": 59,
     "metadata": {},
     "output_type": "execute_result"
    }
   ],
   "source": [
    "dataset.head()"
   ]
  },
  {
   "cell_type": "code",
   "execution_count": 60,
   "id": "64fdc18e",
   "metadata": {},
   "outputs": [
    {
     "name": "stdout",
     "output_type": "stream",
     "text": [
      "[[70.  1.  4. ...  2.  3.  3.]\n",
      " [67.  0.  3. ...  2.  0.  7.]\n",
      " [57.  1.  2. ...  1.  0.  7.]\n",
      " ...\n",
      " [56.  0.  2. ...  2.  0.  3.]\n",
      " [57.  1.  4. ...  2.  0.  6.]\n",
      " [67.  1.  4. ...  2.  3.  3.]] [1. 0. 1. 0. 0. 0. 1. 1. 1. 1. 0. 0. 0. 1. 0. 0. 1. 1. 0. 0. 1. 0. 0. 0.\n",
      " 0. 0. 0. 0. 1. 0. 1. 0. 0. 1. 1. 1. 1. 1. 0. 0. 1. 0. 0. 0. 1. 0. 1. 1.\n",
      " 1. 1. 1. 0. 0. 0. 0. 0. 1. 0. 1. 1. 0. 1. 0. 0. 0. 1. 0. 1. 0. 1. 1. 0.\n",
      " 0. 0. 0. 1. 0. 0. 0. 0. 1. 1. 1. 0. 0. 0. 0. 0. 0. 1. 0. 1. 1. 1. 1. 1.\n",
      " 0. 1. 0. 0. 0. 1. 0. 1. 1. 1. 0. 1. 1. 0. 1. 0. 1. 0. 0. 0. 1. 1. 0. 1.\n",
      " 1. 1. 1. 0. 0. 0. 1. 0. 0. 1. 1. 1. 0. 1. 0. 0. 0. 1. 0. 0. 1. 0. 1. 0.\n",
      " 1. 1. 1. 1. 1. 0. 0. 0. 0. 0. 0. 0. 1. 0. 0. 1. 1. 1. 0. 1. 0. 0. 0. 0.\n",
      " 0. 1. 0. 1. 1. 0. 0. 1. 1. 1. 1. 0. 0. 1. 1. 0. 0. 0. 1. 0. 0. 1. 0. 1.\n",
      " 0. 1. 0. 0. 0. 0. 0. 1. 0. 1. 1. 1. 1. 0. 0. 0. 1. 0. 1. 0. 0. 1. 0. 0.\n",
      " 0. 0. 0. 0. 1. 1. 0. 1. 0. 0. 1. 1. 0. 0. 1. 1. 0. 1. 0. 1. 0. 1. 0. 0.\n",
      " 1. 0. 0. 1. 0. 1. 1. 0. 1. 1. 1. 0. 1. 0. 0. 0. 0. 1. 1. 0. 0. 1. 1. 0.\n",
      " 1. 0. 0. 0. 0. 1.]\n"
     ]
    }
   ],
   "source": [
    "# split into input (X ie dependent variables) and output (Y ie independent variables) variables\n",
    "#X = dataset.iloc[:,0:13]   #0-13 columns are dependent variables - remember 8th column is not included\n",
    "#Y = dataset.iloc[:,13]#13 column is independent variable\n",
    "#Y= Y.reshape(-1,1)\n",
    "print(X,y)"
   ]
  },
  {
   "cell_type": "code",
   "execution_count": 61,
   "id": "2b8b6cd4",
   "metadata": {},
   "outputs": [
    {
     "data": {
      "text/plain": [
       "numpy.ndarray"
      ]
     },
     "execution_count": 61,
     "metadata": {},
     "output_type": "execute_result"
    }
   ],
   "source": [
    "type(X)"
   ]
  },
  {
   "cell_type": "code",
   "execution_count": 62,
   "id": "ac5e066d",
   "metadata": {},
   "outputs": [
    {
     "data": {
      "text/plain": [
       "(270, 13)"
      ]
     },
     "execution_count": 62,
     "metadata": {},
     "output_type": "execute_result"
    }
   ],
   "source": [
    "X.shape"
   ]
  },
  {
   "cell_type": "code",
   "execution_count": 63,
   "id": "46d0e37a",
   "metadata": {},
   "outputs": [],
   "source": [
    "scaler = StandardScaler()\n",
    "X = scaler.fit_transform(X)"
   ]
  },
  {
   "cell_type": "code",
   "execution_count": 74,
   "id": "46803637",
   "metadata": {},
   "outputs": [],
   "source": [
    "# create model\n",
    "model = Sequential()\n",
    "# model.add(Dense(1000, input_dim=8, activation='relu')) # 1000 neurons\n",
    "# model.add(Dense(100, activation='tanh')) # 100 neurons with tanh activation function\n",
    "model.add(Dense(500, input_dim=13, activation='relu')) # 500 neurons\n",
    "# 93.36% accuracy with 500 neurons\n",
    "# 86.99% accuracy with 100 neurons\n",
    "# 85.2% accuracy with 50 neurons\n",
    "# 81.38% accuracy with 10 neurons\n",
    "model.add(Dense(1, activation='sigmoid')) # 1 output neuron"
   ]
  },
  {
   "cell_type": "code",
   "execution_count": 75,
   "id": "792c1d00",
   "metadata": {},
   "outputs": [],
   "source": [
    "Y = y\n",
    "#Y= Y.reshape(-1,1)"
   ]
  },
  {
   "cell_type": "code",
   "execution_count": 76,
   "id": "f8bc27a3",
   "metadata": {},
   "outputs": [
    {
     "data": {
      "text/plain": [
       "(270,)"
      ]
     },
     "execution_count": 76,
     "metadata": {},
     "output_type": "execute_result"
    }
   ],
   "source": [
    "Y.shape"
   ]
  },
  {
   "cell_type": "code",
   "execution_count": 77,
   "id": "cf479103",
   "metadata": {},
   "outputs": [
    {
     "name": "stdout",
     "output_type": "stream",
     "text": [
      "Epoch 1/150\n",
      "27/27 - 1s - 39ms/step - accuracy: 0.8111 - loss: 0.5104\n",
      "Epoch 2/150\n",
      "27/27 - 0s - 4ms/step - accuracy: 0.8444 - loss: 0.3647\n",
      "Epoch 3/150\n",
      "27/27 - 0s - 5ms/step - accuracy: 0.8556 - loss: 0.3333\n",
      "Epoch 4/150\n",
      "27/27 - 0s - 4ms/step - accuracy: 0.8667 - loss: 0.3181\n",
      "Epoch 5/150\n",
      "27/27 - 0s - 4ms/step - accuracy: 0.8741 - loss: 0.3053\n",
      "Epoch 6/150\n",
      "27/27 - 0s - 5ms/step - accuracy: 0.8741 - loss: 0.2966\n",
      "Epoch 7/150\n",
      "27/27 - 0s - 5ms/step - accuracy: 0.8815 - loss: 0.2869\n",
      "Epoch 8/150\n",
      "27/27 - 0s - 4ms/step - accuracy: 0.8852 - loss: 0.2801\n",
      "Epoch 9/150\n",
      "27/27 - 0s - 5ms/step - accuracy: 0.8852 - loss: 0.2707\n",
      "Epoch 10/150\n",
      "27/27 - 0s - 4ms/step - accuracy: 0.8926 - loss: 0.2639\n",
      "Epoch 11/150\n",
      "27/27 - 0s - 5ms/step - accuracy: 0.8926 - loss: 0.2563\n",
      "Epoch 12/150\n",
      "27/27 - 0s - 7ms/step - accuracy: 0.8926 - loss: 0.2495\n",
      "Epoch 13/150\n",
      "27/27 - 0s - 7ms/step - accuracy: 0.8963 - loss: 0.2396\n",
      "Epoch 14/150\n",
      "27/27 - 0s - 4ms/step - accuracy: 0.9037 - loss: 0.2332\n",
      "Epoch 15/150\n",
      "27/27 - 0s - 4ms/step - accuracy: 0.9037 - loss: 0.2264\n",
      "Epoch 16/150\n",
      "27/27 - 0s - 4ms/step - accuracy: 0.9074 - loss: 0.2198\n",
      "Epoch 17/150\n",
      "27/27 - 0s - 7ms/step - accuracy: 0.9148 - loss: 0.2117\n",
      "Epoch 18/150\n",
      "27/27 - 0s - 9ms/step - accuracy: 0.9185 - loss: 0.2048\n",
      "Epoch 19/150\n",
      "27/27 - 0s - 5ms/step - accuracy: 0.9185 - loss: 0.2049\n",
      "Epoch 20/150\n",
      "27/27 - 0s - 5ms/step - accuracy: 0.9222 - loss: 0.1984\n",
      "Epoch 21/150\n",
      "27/27 - 0s - 5ms/step - accuracy: 0.9259 - loss: 0.1886\n",
      "Epoch 22/150\n",
      "27/27 - 0s - 5ms/step - accuracy: 0.9333 - loss: 0.1799\n",
      "Epoch 23/150\n",
      "27/27 - 0s - 6ms/step - accuracy: 0.9370 - loss: 0.1758\n",
      "Epoch 24/150\n",
      "27/27 - 0s - 4ms/step - accuracy: 0.9407 - loss: 0.1705\n",
      "Epoch 25/150\n",
      "27/27 - 0s - 5ms/step - accuracy: 0.9333 - loss: 0.1667\n",
      "Epoch 26/150\n",
      "27/27 - 0s - 5ms/step - accuracy: 0.9407 - loss: 0.1594\n",
      "Epoch 27/150\n",
      "27/27 - 0s - 5ms/step - accuracy: 0.9444 - loss: 0.1534\n",
      "Epoch 28/150\n",
      "27/27 - 0s - 5ms/step - accuracy: 0.9630 - loss: 0.1492\n",
      "Epoch 29/150\n",
      "27/27 - 0s - 6ms/step - accuracy: 0.9630 - loss: 0.1432\n",
      "Epoch 30/150\n",
      "27/27 - 0s - 5ms/step - accuracy: 0.9556 - loss: 0.1409\n",
      "Epoch 31/150\n",
      "27/27 - 0s - 5ms/step - accuracy: 0.9593 - loss: 0.1344\n",
      "Epoch 32/150\n",
      "27/27 - 0s - 4ms/step - accuracy: 0.9556 - loss: 0.1321\n",
      "Epoch 33/150\n",
      "27/27 - 0s - 5ms/step - accuracy: 0.9630 - loss: 0.1227\n",
      "Epoch 34/150\n",
      "27/27 - 0s - 5ms/step - accuracy: 0.9630 - loss: 0.1208\n",
      "Epoch 35/150\n",
      "27/27 - 0s - 5ms/step - accuracy: 0.9741 - loss: 0.1164\n",
      "Epoch 36/150\n",
      "27/27 - 0s - 6ms/step - accuracy: 0.9778 - loss: 0.1100\n",
      "Epoch 37/150\n",
      "27/27 - 0s - 4ms/step - accuracy: 0.9741 - loss: 0.1095\n",
      "Epoch 38/150\n",
      "27/27 - 0s - 3ms/step - accuracy: 0.9815 - loss: 0.1045\n",
      "Epoch 39/150\n",
      "27/27 - 0s - 6ms/step - accuracy: 0.9741 - loss: 0.0992\n",
      "Epoch 40/150\n",
      "27/27 - 0s - 4ms/step - accuracy: 0.9815 - loss: 0.0963\n",
      "Epoch 41/150\n",
      "27/27 - 0s - 5ms/step - accuracy: 0.9815 - loss: 0.0922\n",
      "Epoch 42/150\n",
      "27/27 - 0s - 4ms/step - accuracy: 0.9778 - loss: 0.0921\n",
      "Epoch 43/150\n",
      "27/27 - 0s - 4ms/step - accuracy: 0.9852 - loss: 0.0865\n",
      "Epoch 44/150\n",
      "27/27 - 0s - 4ms/step - accuracy: 0.9852 - loss: 0.0860\n",
      "Epoch 45/150\n",
      "27/27 - 0s - 4ms/step - accuracy: 0.9852 - loss: 0.0806\n",
      "Epoch 46/150\n",
      "27/27 - 0s - 5ms/step - accuracy: 0.9852 - loss: 0.0797\n",
      "Epoch 47/150\n",
      "27/27 - 0s - 4ms/step - accuracy: 0.9889 - loss: 0.0748\n",
      "Epoch 48/150\n",
      "27/27 - 0s - 5ms/step - accuracy: 0.9926 - loss: 0.0723\n",
      "Epoch 49/150\n",
      "27/27 - 0s - 4ms/step - accuracy: 0.9852 - loss: 0.0712\n",
      "Epoch 50/150\n",
      "27/27 - 0s - 3ms/step - accuracy: 0.9889 - loss: 0.0685\n",
      "Epoch 51/150\n",
      "27/27 - 0s - 4ms/step - accuracy: 0.9889 - loss: 0.0668\n",
      "Epoch 52/150\n",
      "27/27 - 0s - 6ms/step - accuracy: 0.9852 - loss: 0.0647\n",
      "Epoch 53/150\n",
      "27/27 - 0s - 10ms/step - accuracy: 0.9926 - loss: 0.0617\n",
      "Epoch 54/150\n",
      "27/27 - 0s - 5ms/step - accuracy: 0.9926 - loss: 0.0617\n",
      "Epoch 55/150\n",
      "27/27 - 0s - 5ms/step - accuracy: 0.9852 - loss: 0.0584\n",
      "Epoch 56/150\n",
      "27/27 - 0s - 4ms/step - accuracy: 0.9889 - loss: 0.0578\n",
      "Epoch 57/150\n",
      "27/27 - 0s - 4ms/step - accuracy: 0.9926 - loss: 0.0545\n",
      "Epoch 58/150\n",
      "27/27 - 0s - 4ms/step - accuracy: 0.9926 - loss: 0.0534\n",
      "Epoch 59/150\n",
      "27/27 - 0s - 5ms/step - accuracy: 0.9926 - loss: 0.0516\n",
      "Epoch 60/150\n",
      "27/27 - 0s - 5ms/step - accuracy: 0.9926 - loss: 0.0521\n",
      "Epoch 61/150\n",
      "27/27 - 0s - 4ms/step - accuracy: 0.9926 - loss: 0.0500\n",
      "Epoch 62/150\n",
      "27/27 - 0s - 5ms/step - accuracy: 0.9926 - loss: 0.0488\n",
      "Epoch 63/150\n",
      "27/27 - 0s - 4ms/step - accuracy: 0.9926 - loss: 0.0449\n",
      "Epoch 64/150\n",
      "27/27 - 0s - 6ms/step - accuracy: 0.9926 - loss: 0.0436\n",
      "Epoch 65/150\n",
      "27/27 - 0s - 7ms/step - accuracy: 0.9889 - loss: 0.0440\n",
      "Epoch 66/150\n",
      "27/27 - 0s - 8ms/step - accuracy: 0.9926 - loss: 0.0417\n",
      "Epoch 67/150\n",
      "27/27 - 0s - 4ms/step - accuracy: 0.9926 - loss: 0.0394\n",
      "Epoch 68/150\n",
      "27/27 - 0s - 5ms/step - accuracy: 1.0000 - loss: 0.0384\n",
      "Epoch 69/150\n",
      "27/27 - 0s - 5ms/step - accuracy: 0.9926 - loss: 0.0398\n",
      "Epoch 70/150\n",
      "27/27 - 0s - 4ms/step - accuracy: 0.9926 - loss: 0.0379\n",
      "Epoch 71/150\n",
      "27/27 - 0s - 6ms/step - accuracy: 0.9963 - loss: 0.0354\n",
      "Epoch 72/150\n",
      "27/27 - 0s - 9ms/step - accuracy: 0.9963 - loss: 0.0352\n",
      "Epoch 73/150\n",
      "27/27 - 0s - 8ms/step - accuracy: 0.9963 - loss: 0.0353\n",
      "Epoch 74/150\n",
      "27/27 - 0s - 3ms/step - accuracy: 0.9889 - loss: 0.0359\n",
      "Epoch 75/150\n",
      "27/27 - 0s - 7ms/step - accuracy: 1.0000 - loss: 0.0323\n",
      "Epoch 76/150\n",
      "27/27 - 0s - 2ms/step - accuracy: 1.0000 - loss: 0.0307\n",
      "Epoch 77/150\n",
      "27/27 - 0s - 3ms/step - accuracy: 0.9963 - loss: 0.0314\n",
      "Epoch 78/150\n",
      "27/27 - 0s - 2ms/step - accuracy: 0.9963 - loss: 0.0307\n",
      "Epoch 79/150\n",
      "27/27 - 0s - 2ms/step - accuracy: 1.0000 - loss: 0.0296\n",
      "Epoch 80/150\n",
      "27/27 - 0s - 2ms/step - accuracy: 1.0000 - loss: 0.0290\n",
      "Epoch 81/150\n",
      "27/27 - 0s - 2ms/step - accuracy: 1.0000 - loss: 0.0279\n",
      "Epoch 82/150\n",
      "27/27 - 0s - 6ms/step - accuracy: 1.0000 - loss: 0.0255\n",
      "Epoch 83/150\n",
      "27/27 - 0s - 5ms/step - accuracy: 0.9963 - loss: 0.0261\n",
      "Epoch 84/150\n",
      "27/27 - 0s - 6ms/step - accuracy: 1.0000 - loss: 0.0250\n",
      "Epoch 85/150\n",
      "27/27 - 0s - 3ms/step - accuracy: 1.0000 - loss: 0.0239\n",
      "Epoch 86/150\n",
      "27/27 - 0s - 5ms/step - accuracy: 1.0000 - loss: 0.0237\n",
      "Epoch 87/150\n",
      "27/27 - 0s - 5ms/step - accuracy: 1.0000 - loss: 0.0237\n",
      "Epoch 88/150\n",
      "27/27 - 0s - 5ms/step - accuracy: 1.0000 - loss: 0.0218\n",
      "Epoch 89/150\n",
      "27/27 - 0s - 3ms/step - accuracy: 1.0000 - loss: 0.0218\n",
      "Epoch 90/150\n",
      "27/27 - 0s - 6ms/step - accuracy: 1.0000 - loss: 0.0216\n",
      "Epoch 91/150\n",
      "27/27 - 0s - 3ms/step - accuracy: 1.0000 - loss: 0.0195\n",
      "Epoch 92/150\n",
      "27/27 - 0s - 6ms/step - accuracy: 1.0000 - loss: 0.0207\n",
      "Epoch 93/150\n",
      "27/27 - 0s - 5ms/step - accuracy: 1.0000 - loss: 0.0194\n",
      "Epoch 94/150\n",
      "27/27 - 0s - 3ms/step - accuracy: 1.0000 - loss: 0.0185\n",
      "Epoch 95/150\n",
      "27/27 - 0s - 5ms/step - accuracy: 1.0000 - loss: 0.0192\n",
      "Epoch 96/150\n",
      "27/27 - 0s - 7ms/step - accuracy: 1.0000 - loss: 0.0180\n",
      "Epoch 97/150\n",
      "27/27 - 0s - 6ms/step - accuracy: 1.0000 - loss: 0.0180\n",
      "Epoch 98/150\n",
      "27/27 - 0s - 9ms/step - accuracy: 1.0000 - loss: 0.0170\n",
      "Epoch 99/150\n",
      "27/27 - 0s - 2ms/step - accuracy: 1.0000 - loss: 0.0160\n",
      "Epoch 100/150\n",
      "27/27 - 0s - 3ms/step - accuracy: 1.0000 - loss: 0.0160\n",
      "Epoch 101/150\n",
      "27/27 - 0s - 2ms/step - accuracy: 1.0000 - loss: 0.0156\n",
      "Epoch 102/150\n",
      "27/27 - 0s - 2ms/step - accuracy: 1.0000 - loss: 0.0152\n",
      "Epoch 103/150\n",
      "27/27 - 0s - 8ms/step - accuracy: 1.0000 - loss: 0.0149\n",
      "Epoch 104/150\n",
      "27/27 - 0s - 4ms/step - accuracy: 1.0000 - loss: 0.0151\n",
      "Epoch 105/150\n",
      "27/27 - 0s - 5ms/step - accuracy: 1.0000 - loss: 0.0151\n",
      "Epoch 106/150\n",
      "27/27 - 0s - 6ms/step - accuracy: 1.0000 - loss: 0.0139\n",
      "Epoch 107/150\n",
      "27/27 - 0s - 6ms/step - accuracy: 1.0000 - loss: 0.0131\n",
      "Epoch 108/150\n",
      "27/27 - 0s - 4ms/step - accuracy: 1.0000 - loss: 0.0129\n",
      "Epoch 109/150\n",
      "27/27 - 0s - 5ms/step - accuracy: 1.0000 - loss: 0.0128\n",
      "Epoch 110/150\n",
      "27/27 - 0s - 6ms/step - accuracy: 1.0000 - loss: 0.0132\n",
      "Epoch 111/150\n",
      "27/27 - 0s - 2ms/step - accuracy: 1.0000 - loss: 0.0130\n",
      "Epoch 112/150\n",
      "27/27 - 0s - 8ms/step - accuracy: 1.0000 - loss: 0.0130\n",
      "Epoch 113/150\n",
      "27/27 - 0s - 9ms/step - accuracy: 1.0000 - loss: 0.0119\n",
      "Epoch 114/150\n",
      "27/27 - 0s - 5ms/step - accuracy: 1.0000 - loss: 0.0112\n",
      "Epoch 115/150\n",
      "27/27 - 0s - 2ms/step - accuracy: 1.0000 - loss: 0.0107\n",
      "Epoch 116/150\n",
      "27/27 - 0s - 7ms/step - accuracy: 1.0000 - loss: 0.0108\n",
      "Epoch 117/150\n",
      "27/27 - 0s - 3ms/step - accuracy: 1.0000 - loss: 0.0102\n",
      "Epoch 118/150\n",
      "27/27 - 0s - 2ms/step - accuracy: 1.0000 - loss: 0.0101\n",
      "Epoch 119/150\n",
      "27/27 - 0s - 6ms/step - accuracy: 1.0000 - loss: 0.0104\n"
     ]
    },
    {
     "name": "stdout",
     "output_type": "stream",
     "text": [
      "Epoch 120/150\n",
      "27/27 - 0s - 5ms/step - accuracy: 1.0000 - loss: 0.0100\n",
      "Epoch 121/150\n",
      "27/27 - 0s - 2ms/step - accuracy: 1.0000 - loss: 0.0095\n",
      "Epoch 122/150\n",
      "27/27 - 0s - 2ms/step - accuracy: 1.0000 - loss: 0.0096\n",
      "Epoch 123/150\n",
      "27/27 - 0s - 6ms/step - accuracy: 1.0000 - loss: 0.0089\n",
      "Epoch 124/150\n",
      "27/27 - 0s - 3ms/step - accuracy: 1.0000 - loss: 0.0087\n",
      "Epoch 125/150\n",
      "27/27 - 0s - 6ms/step - accuracy: 1.0000 - loss: 0.0094\n",
      "Epoch 126/150\n",
      "27/27 - 0s - 2ms/step - accuracy: 1.0000 - loss: 0.0090\n",
      "Epoch 127/150\n",
      "27/27 - 0s - 3ms/step - accuracy: 1.0000 - loss: 0.0087\n",
      "Epoch 128/150\n",
      "27/27 - 0s - 6ms/step - accuracy: 1.0000 - loss: 0.0081\n",
      "Epoch 129/150\n",
      "27/27 - 0s - 5ms/step - accuracy: 1.0000 - loss: 0.0082\n",
      "Epoch 130/150\n",
      "27/27 - 0s - 6ms/step - accuracy: 1.0000 - loss: 0.0081\n",
      "Epoch 131/150\n",
      "27/27 - 0s - 5ms/step - accuracy: 1.0000 - loss: 0.0078\n",
      "Epoch 132/150\n",
      "27/27 - 0s - 5ms/step - accuracy: 1.0000 - loss: 0.0077\n",
      "Epoch 133/150\n",
      "27/27 - 0s - 6ms/step - accuracy: 1.0000 - loss: 0.0075\n",
      "Epoch 134/150\n",
      "27/27 - 0s - 3ms/step - accuracy: 1.0000 - loss: 0.0069\n",
      "Epoch 135/150\n",
      "27/27 - 0s - 5ms/step - accuracy: 1.0000 - loss: 0.0068\n",
      "Epoch 136/150\n",
      "27/27 - 0s - 6ms/step - accuracy: 1.0000 - loss: 0.0067\n",
      "Epoch 137/150\n",
      "27/27 - 0s - 6ms/step - accuracy: 1.0000 - loss: 0.0068\n",
      "Epoch 138/150\n",
      "27/27 - 0s - 5ms/step - accuracy: 1.0000 - loss: 0.0061\n",
      "Epoch 139/150\n",
      "27/27 - 0s - 5ms/step - accuracy: 1.0000 - loss: 0.0063\n",
      "Epoch 140/150\n",
      "27/27 - 0s - 5ms/step - accuracy: 1.0000 - loss: 0.0062\n",
      "Epoch 141/150\n",
      "27/27 - 0s - 5ms/step - accuracy: 1.0000 - loss: 0.0061\n",
      "Epoch 142/150\n",
      "27/27 - 0s - 3ms/step - accuracy: 1.0000 - loss: 0.0059\n",
      "Epoch 143/150\n",
      "27/27 - 0s - 3ms/step - accuracy: 1.0000 - loss: 0.0057\n",
      "Epoch 144/150\n",
      "27/27 - 0s - 9ms/step - accuracy: 1.0000 - loss: 0.0059\n",
      "Epoch 145/150\n",
      "27/27 - 0s - 8ms/step - accuracy: 1.0000 - loss: 0.0055\n",
      "Epoch 146/150\n",
      "27/27 - 0s - 3ms/step - accuracy: 1.0000 - loss: 0.0053\n",
      "Epoch 147/150\n",
      "27/27 - 0s - 6ms/step - accuracy: 1.0000 - loss: 0.0054\n",
      "Epoch 148/150\n",
      "27/27 - 0s - 4ms/step - accuracy: 1.0000 - loss: 0.0050\n",
      "Epoch 149/150\n",
      "27/27 - 0s - 5ms/step - accuracy: 1.0000 - loss: 0.0051\n",
      "Epoch 150/150\n",
      "27/27 - 0s - 3ms/step - accuracy: 1.0000 - loss: 0.0051\n"
     ]
    },
    {
     "data": {
      "text/plain": [
       "<keras.src.callbacks.history.History at 0x7f07dc5f6140>"
      ]
     },
     "execution_count": 77,
     "metadata": {},
     "output_type": "execute_result"
    }
   ],
   "source": [
    "# Compile model\n",
    "model.compile(loss='binary_crossentropy', optimizer='adam', metrics=['accuracy'])\n",
    "\n",
    "# Fit the model\n",
    "model.fit(X, Y, epochs=150, batch_size=10,  verbose=2) # 150 epoch, 10 batch size, verbose = 2"
   ]
  },
  {
   "cell_type": "code",
   "execution_count": 78,
   "id": "0bc89b49",
   "metadata": {},
   "outputs": [
    {
     "name": "stdout",
     "output_type": "stream",
     "text": [
      "\u001b[1m9/9\u001b[0m \u001b[32m━━━━━━━━━━━━━━━━━━━━\u001b[0m\u001b[37m\u001b[0m \u001b[1m0s\u001b[0m 2ms/step - accuracy: 1.0000 - loss: 0.0053  \n",
      "compile_metrics: 100.00%\n"
     ]
    }
   ],
   "source": [
    "# evaluate the model\n",
    "scores = model.evaluate(X, Y)\n",
    "print(\"%s: %.2f%%\" % (model.metrics_names[1], scores[1]*100))"
   ]
  },
  {
   "cell_type": "code",
   "execution_count": 79,
   "id": "7e5ea662",
   "metadata": {},
   "outputs": [
    {
     "name": "stdout",
     "output_type": "stream",
     "text": [
      "\u001b[1m9/9\u001b[0m \u001b[32m━━━━━━━━━━━━━━━━━━━━\u001b[0m\u001b[37m\u001b[0m \u001b[1m0s\u001b[0m 9ms/step\n",
      "[[9.99664068e-01]\n",
      " [3.42114367e-06]\n",
      " [9.33260798e-01]\n",
      " [1.47320116e-02]\n",
      " [8.42773588e-04]\n",
      " [1.70143303e-05]\n",
      " [9.98933613e-01]\n",
      " [9.99989390e-01]\n",
      " [9.99978364e-01]\n",
      " [9.95351017e-01]\n",
      " [1.06802620e-02]\n",
      " [1.57823991e-02]\n",
      " [1.48453037e-05]\n",
      " [9.97025311e-01]\n",
      " [5.98487742e-02]\n",
      " [1.31634260e-05]\n",
      " [9.99999821e-01]\n",
      " [9.99999881e-01]\n",
      " [1.97269814e-03]\n",
      " [9.31418072e-07]\n",
      " [1.00000000e+00]\n",
      " [1.53008586e-05]\n",
      " [4.43089782e-04]\n",
      " [3.75264436e-02]\n",
      " [1.04171799e-04]\n",
      " [2.53816179e-05]\n",
      " [1.46017934e-03]\n",
      " [4.36055197e-05]\n",
      " [9.99518633e-01]\n",
      " [5.81428455e-03]\n",
      " [9.92123067e-01]\n",
      " [4.05226089e-03]\n",
      " [2.49103427e-09]\n",
      " [1.00000000e+00]\n",
      " [9.95621085e-01]\n",
      " [9.99999464e-01]\n",
      " [9.99997914e-01]\n",
      " [9.88294661e-01]\n",
      " [2.13987787e-05]\n",
      " [2.85141938e-03]\n",
      " [9.86689806e-01]\n",
      " [2.03899776e-06]\n",
      " [7.97113060e-08]\n",
      " [5.95628769e-10]\n",
      " [9.95953619e-01]\n",
      " [3.42923329e-10]\n",
      " [9.99975264e-01]\n",
      " [9.93650556e-01]\n",
      " [9.95280981e-01]\n",
      " [9.99999762e-01]\n",
      " [9.99797940e-01]\n",
      " [1.20491909e-12]\n",
      " [1.61684435e-02]\n",
      " [1.86283000e-06]\n",
      " [3.06785068e-08]\n",
      " [8.81663897e-09]\n",
      " [9.99999821e-01]\n",
      " [1.79817383e-10]\n",
      " [9.91350830e-01]\n",
      " [9.99289334e-01]\n",
      " [1.25729315e-07]\n",
      " [9.99902844e-01]\n",
      " [1.88735197e-03]\n",
      " [9.88315776e-08]\n",
      " [1.58435619e-03]\n",
      " [9.99991000e-01]\n",
      " [2.80590192e-03]\n",
      " [9.77476001e-01]\n",
      " [3.67487883e-05]\n",
      " [9.19966996e-01]\n",
      " [1.00000000e+00]\n",
      " [9.05700290e-05]\n",
      " [4.39886609e-03]\n",
      " [5.52388110e-06]\n",
      " [8.35365674e-04]\n",
      " [1.00000000e+00]\n",
      " [1.39802136e-02]\n",
      " [4.13304813e-09]\n",
      " [7.24612264e-08]\n",
      " [1.50916562e-03]\n",
      " [9.99862134e-01]\n",
      " [9.99770284e-01]\n",
      " [9.80769336e-01]\n",
      " [2.16343469e-04]\n",
      " [5.94140124e-03]\n",
      " [2.98264858e-05]\n",
      " [9.13658926e-09]\n",
      " [9.55143850e-03]\n",
      " [2.18157297e-08]\n",
      " [9.99781191e-01]\n",
      " [2.47949767e-08]\n",
      " [9.14945126e-01]\n",
      " [9.99999821e-01]\n",
      " [9.87875581e-01]\n",
      " [9.94969606e-01]\n",
      " [9.96625781e-01]\n",
      " [1.23779904e-02]\n",
      " [9.83821571e-01]\n",
      " [5.28646447e-03]\n",
      " [1.68618854e-07]\n",
      " [1.01103703e-08]\n",
      " [9.96334255e-01]\n",
      " [3.48384783e-05]\n",
      " [1.00000000e+00]\n",
      " [9.96908665e-01]\n",
      " [9.87864196e-01]\n",
      " [5.07787801e-04]\n",
      " [1.00000000e+00]\n",
      " [9.93432045e-01]\n",
      " [8.33238922e-10]\n",
      " [9.99993384e-01]\n",
      " [6.67963549e-03]\n",
      " [9.70263779e-01]\n",
      " [2.32584370e-07]\n",
      " [6.65800995e-04]\n",
      " [7.64586730e-06]\n",
      " [9.97809231e-01]\n",
      " [1.00000000e+00]\n",
      " [4.77687223e-03]\n",
      " [9.99202847e-01]\n",
      " [9.99722660e-01]\n",
      " [9.99999881e-01]\n",
      " [9.99979556e-01]\n",
      " [1.12717692e-02]\n",
      " [5.80166001e-03]\n",
      " [1.52467437e-05]\n",
      " [9.99855876e-01]\n",
      " [1.16944364e-06]\n",
      " [4.54499852e-03]\n",
      " [9.99944746e-01]\n",
      " [9.99147773e-01]\n",
      " [9.91957545e-01]\n",
      " [3.17833910e-05]\n",
      " [9.99899507e-01]\n",
      " [1.03963278e-02]\n",
      " [1.05289451e-03]\n",
      " [4.62718745e-04]\n",
      " [9.98100579e-01]\n",
      " [6.77937394e-12]\n",
      " [3.25624994e-03]\n",
      " [9.99995232e-01]\n",
      " [1.04206242e-02]\n",
      " [9.97281134e-01]\n",
      " [3.78332753e-03]\n",
      " [9.98426497e-01]\n",
      " [9.99999225e-01]\n",
      " [9.82721031e-01]\n",
      " [9.98898387e-01]\n",
      " [9.99631584e-01]\n",
      " [2.87230262e-09]\n",
      " [5.69171854e-04]\n",
      " [5.33203638e-05]\n",
      " [3.63694016e-05]\n",
      " [1.35296863e-03]\n",
      " [2.30947007e-05]\n",
      " [1.63965996e-09]\n",
      " [1.00000000e+00]\n",
      " [4.78675182e-04]\n",
      " [5.44871157e-03]\n",
      " [1.00000000e+00]\n",
      " [9.93483245e-01]\n",
      " [9.92892385e-01]\n",
      " [2.73514930e-02]\n",
      " [1.00000000e+00]\n",
      " [2.30783988e-02]\n",
      " [1.18261809e-02]\n",
      " [2.40773705e-04]\n",
      " [5.72187048e-07]\n",
      " [1.33170676e-03]\n",
      " [9.92013395e-01]\n",
      " [6.38228282e-03]\n",
      " [9.98029232e-01]\n",
      " [9.99941826e-01]\n",
      " [2.54503888e-04]\n",
      " [3.92372623e-09]\n",
      " [9.97079194e-01]\n",
      " [1.00000000e+00]\n",
      " [9.90239024e-01]\n",
      " [9.95100617e-01]\n",
      " [3.93282571e-05]\n",
      " [1.54274201e-03]\n",
      " [9.99996662e-01]\n",
      " [9.80788589e-01]\n",
      " [2.91810138e-04]\n",
      " [7.74064194e-03]\n",
      " [5.22301998e-04]\n",
      " [9.99999464e-01]\n",
      " [7.48320483e-03]\n",
      " [3.54828686e-03]\n",
      " [9.99990463e-01]\n",
      " [4.47496260e-03]\n",
      " [9.95702863e-01]\n",
      " [4.27524745e-02]\n",
      " [9.97960269e-01]\n",
      " [1.68177996e-06]\n",
      " [2.01539169e-05]\n",
      " [1.74287253e-03]\n",
      " [1.15429822e-04]\n",
      " [2.38120920e-05]\n",
      " [9.99965668e-01]\n",
      " [9.47041716e-03]\n",
      " [9.99804139e-01]\n",
      " [1.00000000e+00]\n",
      " [9.97352898e-01]\n",
      " [1.00000000e+00]\n",
      " [3.15704383e-03]\n",
      " [1.57097820e-04]\n",
      " [2.21999804e-03]\n",
      " [9.89156902e-01]\n",
      " [4.56086081e-03]\n",
      " [9.86775398e-01]\n",
      " [2.53714068e-04]\n",
      " [1.73666223e-07]\n",
      " [1.00000000e+00]\n",
      " [8.34700753e-10]\n",
      " [2.38410680e-10]\n",
      " [1.28868141e-03]\n",
      " [3.48140229e-03]\n",
      " [1.62714757e-02]\n",
      " [4.49350628e-05]\n",
      " [9.99999881e-01]\n",
      " [9.99611735e-01]\n",
      " [2.41480961e-07]\n",
      " [1.00000000e+00]\n",
      " [1.31476042e-06]\n",
      " [7.15653505e-03]\n",
      " [9.87848759e-01]\n",
      " [1.00000000e+00]\n",
      " [4.41382372e-06]\n",
      " [8.55117196e-06]\n",
      " [9.99999642e-01]\n",
      " [9.99203920e-01]\n",
      " [6.41318178e-03]\n",
      " [9.98973489e-01]\n",
      " [1.58738811e-02]\n",
      " [1.00000000e+00]\n",
      " [9.92595567e-04]\n",
      " [9.99955237e-01]\n",
      " [4.40136204e-03]\n",
      " [4.59593534e-03]\n",
      " [9.99875188e-01]\n",
      " [1.78094542e-05]\n",
      " [1.07344601e-03]\n",
      " [9.99963582e-01]\n",
      " [1.69708233e-04]\n",
      " [9.98473585e-01]\n",
      " [9.99725282e-01]\n",
      " [1.43332276e-04]\n",
      " [9.76391733e-01]\n",
      " [1.00000000e+00]\n",
      " [9.99725282e-01]\n",
      " [3.55744959e-07]\n",
      " [9.94615972e-01]\n",
      " [7.43643893e-03]\n",
      " [2.25523262e-08]\n",
      " [2.92533441e-05]\n",
      " [8.52954836e-05]\n",
      " [9.99083161e-01]\n",
      " [9.79129076e-01]\n",
      " [1.12853864e-04]\n",
      " [1.58183379e-04]\n",
      " [1.00000000e+00]\n",
      " [9.81144130e-01]\n",
      " [3.96770891e-04]\n",
      " [9.83756006e-01]\n",
      " [1.26890285e-07]\n",
      " [2.37280130e-03]\n",
      " [5.11011342e-04]\n",
      " [6.30464230e-04]\n",
      " [9.99999821e-01]]\n"
     ]
    }
   ],
   "source": [
    "# calculate predictions\n",
    "predictions = model.predict(X)    # predicting Y only using X\n",
    "print(predictions)"
   ]
  },
  {
   "cell_type": "code",
   "execution_count": 81,
   "id": "3ad2e923",
   "metadata": {},
   "outputs": [
    {
     "name": "stdout",
     "output_type": "stream",
     "text": [
      "[1, 0, 1, 0, 0, 0, 1, 1, 1, 1, 0, 0, 0, 1, 0, 0, 1, 1, 0, 0, 1, 0, 0, 0, 0, 0, 0, 0, 1, 0, 1, 0, 0, 1, 1, 1, 1, 1, 0, 0, 1, 0, 0, 0, 1, 0, 1, 1, 1, 1, 1, 0, 0, 0, 0, 0, 1, 0, 1, 1, 0, 1, 0, 0, 0, 1, 0, 1, 0, 1, 1, 0, 0, 0, 0, 1, 0, 0, 0, 0, 1, 1, 1, 0, 0, 0, 0, 0, 0, 1, 0, 1, 1, 1, 1, 1, 0, 1, 0, 0, 0, 1, 0, 1, 1, 1, 0, 1, 1, 0, 1, 0, 1, 0, 0, 0, 1, 1, 0, 1, 1, 1, 1, 0, 0, 0, 1, 0, 0, 1, 1, 1, 0, 1, 0, 0, 0, 1, 0, 0, 1, 0, 1, 0, 1, 1, 1, 1, 1, 0, 0, 0, 0, 0, 0, 0, 1, 0, 0, 1, 1, 1, 0, 1, 0, 0, 0, 0, 0, 1, 0, 1, 1, 0, 0, 1, 1, 1, 1, 0, 0, 1, 1, 0, 0, 0, 1, 0, 0, 1, 0, 1, 0, 1, 0, 0, 0, 0, 0, 1, 0, 1, 1, 1, 1, 0, 0, 0, 1, 0, 1, 0, 0, 1, 0, 0, 0, 0, 0, 0, 1, 1, 0, 1, 0, 0, 1, 1, 0, 0, 1, 1, 0, 1, 0, 1, 0, 1, 0, 0, 1, 0, 0, 1, 0, 1, 1, 0, 1, 1, 1, 0, 1, 0, 0, 0, 0, 1, 1, 0, 0, 1, 1, 0, 1, 0, 0, 0, 0, 1]\n",
      "Rounded type:  <class 'list'>\n",
      "Shape of rounded:  270\n",
      "Dataset type:  <class 'pyspark.sql.dataframe.DataFrame'>\n"
     ]
    }
   ],
   "source": [
    "# Round predictions\n",
    "#rounded = [int(numpy.round(x, 0)) for x in predictions]\n",
    "rounded = [round(x[0]) for x in predictions]\n",
    "print(rounded)\n",
    "\n",
    "print(\"Rounded type: \", type(rounded)) # rounded is a 'list' class\n",
    "print(\"Shape of rounded: \", len(rounded))\n",
    "print(\"Dataset type: \", type(dataset)) # numpy array?\n",
    "#print(\"Shape of dataset: \", dataset.shape)"
   ]
  },
  {
   "cell_type": "code",
   "execution_count": 82,
   "id": "d948b9dd",
   "metadata": {},
   "outputs": [
    {
     "data": {
      "image/png": "[encoded data removed]",
      "text/plain": [
       "<Figure size 432x288 with 2 Axes>"
      ]
     },
     "metadata": {
      "needs_background": "light"
     },
     "output_type": "display_data"
    }
   ],
   "source": [
    "import matplotlib.pyplot as plt\n",
    "import numpy\n",
    "from sklearn import metrics\n",
    "\n",
    "actual = Y\n",
    "predicted = rounded\n",
    "\n",
    "confusion_matrix = metrics.confusion_matrix(actual, predicted)\n",
    "\n",
    "cm_display = metrics.ConfusionMatrixDisplay(confusion_matrix = confusion_matrix, display_labels = [False, True])\n",
    "\n",
    "cm_display.plot()\n",
    "plt.show() "
   ]
  },
  {
   "cell_type": "code",
   "execution_count": 83,
   "id": "b96aabf5",
   "metadata": {},
   "outputs": [
    {
     "name": "stdout",
     "output_type": "stream",
     "text": [
      "1=>(expected 1.0)\n",
      "0=>(expected 0.0)\n",
      "1=>(expected 1.0)\n",
      "0=>(expected 0.0)\n",
      "0=>(expected 0.0)\n"
     ]
    }
   ],
   "source": [
    "# summarize the first 5 cases\n",
    "for i in range(5):\n",
    "\tprint(str(rounded[i]) + '=>(expected '+ str(Y[i]) +')')"
   ]
  }
 ],
 "metadata": {
  "kernelspec": {
   "display_name": "Python 3 (ipykernel)",
   "language": "python",
   "name": "python3"
  },
  "language_info": {
   "codemirror_mode": {
    "name": "ipython",
    "version": 3
   },
   "file_extension": ".py",
   "mimetype": "text/x-python",
   "name": "python",
   "nbconvert_exporter": "python",
   "pygments_lexer": "ipython3",
   "version": "3.10.12"
  }
 },
 "nbformat": 4,
 "nbformat_minor": 5
}
